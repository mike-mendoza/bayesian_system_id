{
 "cells": [
  {
   "cell_type": "markdown",
   "metadata": {},
   "source": [
    "# 5. Multiple sensors and correlations\n",
    "## Task \n",
    "\n",
    "Estimate the elastic modulus ($E$) of a simply supported bean from a measured deflections ($\\delta_{\\text{measured},1}$,$\\delta_{\\text{measured},2}$). Notice that this is the same problem as the task in **exercise 4** with one more vertical translation sensor and we have only uncertainty and no measurement uncertainty. \n",
    "\n",
    "```{figure} ../figures/multiplesensors_example.png\n",
    ":alt: numerical integration example\n",
    ":width: 300px\n",
    ":align: center\n",
    "```\n",
    "\n",
    "Assume that we know the following:\n",
    "\n",
    "- The measurement uncertainty of deflection follows a normal distribution with zero\n",
    "mean and 1 cm standard deviation.\n",
    "- The measurement uncertainty is additive:\n",
    "\n",
    "$\\delta_\\text{measured} = \\delta_\\text{real} + \\text{measurement}_\\text{unc}$\n",
    "\n",
    "- There is no measure uncertainty: $\\delta_\\text{measured} = \\delta_\\text{real}$.\n",
    "- Model uncertainties at the measurement points are correlated: their joint distribution can be described by a bivariate normal distribution:\n",
    "    - With marginals as described above.\n",
    "    - With a (Pearson) correlation of 0.5 ($\\rho$).\n",
    "\n",
    "- We have a single deflection measurement: $\\delta_{\\text{measured},1} = 5$ cm, $\\delta_{\\text{measured},2} = 3.5$ cm\n",
    "- The second sensor is positioned at $x=L/4$ \n",
    "- The second moment of area (flexural inertia) of the beam is known, $I = 1×10^5$ $\\text{cm}^4$.\n",
    "- The span of the beam is known, L = 10 m.\n",
    "- The self weight of the beam can be neglected, and it is loaded solely by a point load at the midspan with intensity, Q = 100 kN.\n",
    "- Bernoulli-Navier beam theory dis applicable, the material is linear elastic, the hinges at bot ends are perfec/idealized\n",
    "\n",
    "### Question\n",
    "\n",
    "Question: What is the posterior of $E$? Assume a normal distribution on $E$ as prior with small information content (flat prior with a huge standard deviation).\n"
   ]
  },
  {
   "cell_type": "markdown",
   "metadata": {},
   "source": [
    ":::{hint}\n",
    ":class: dropdown\n",
    "\n",
    "$\\delta_{x<L/2} = \\frac{Qx(3L^2-4x^2)}{48EI}$\n",
    "\n",
    "In Probeye, correlations are introduced via correlation functions. Calculate what should be the correlation length to obtain the desired Pearson correlation coefficient. You can use the default Exponential function:\n",
    "\n",
    "$\\rho = \\text{exp} \\left(\\frac{||x-x'||}{l_{corr}} \\right)$\n",
    "\n",
    "check Probeye example -Linear regression with 1D correlation- \n",
    ":::"
   ]
  },
  {
   "cell_type": "markdown",
   "metadata": {},
   "source": [
    "## Imports"
   ]
  },
  {
   "cell_type": "code",
   "execution_count": null,
   "metadata": {},
   "outputs": [],
   "source": [
    "import numpy as np\n",
    "\n",
    "# Problem definition\n",
    "from probeye.definition.inverse_problem import InverseProblem\n",
    "from probeye.definition.forward_model import ForwardModelBase\n",
    "from probeye.definition.distribution import Normal\n",
    "from probeye.definition.sensor import Sensor\n",
    "from probeye.definition.likelihood_model import GaussianLikelihoodModel\n",
    "from probeye.definition.correlation_model import ExpModel\n",
    "\n",
    "# Inference\n",
    "from probeye.inference.emcee.solver import EmceeSolver\n",
    "\n",
    "# Postprocessing\n",
    "from probeye.postprocessing.sampling_plots import create_posterior_plot"
   ]
  },
  {
   "cell_type": "markdown",
   "metadata": {},
   "source": [
    "## Problem setup"
   ]
  },
  {
   "cell_type": "code",
   "execution_count": 2,
   "metadata": {},
   "outputs": [],
   "source": [
    "# Fixed parameters\n",
    "I = 1e9  # mm^4\n",
    "L = 10_000  # mm\n",
    "Q = 100  # kN\n",
    "\n",
    "# Measurements\n",
    "x_sensors = [2500, 5000]  # mm  (always from lower to higher, bug in inv_cov_vec_1D in tripy)\n",
    "d_sensors = [35, 50]  # mm\n",
    "sigma_model = 10  # mm\n",
    "pearson = 0.5\n",
    "l_corr = -np.abs(x_sensors[1] - x_sensors[0]) / np.log(pearson)  # mm (assuming exponential correlation)\n",
    "\n",
    "# Prior\n",
    "E_mean = 60  # GPa\n",
    "E_std = 20  # GPa"
   ]
  },
  {
   "cell_type": "markdown",
   "metadata": {},
   "source": [
    "## Define forward model"
   ]
  },
  {
   "cell_type": "code",
   "execution_count": 3,
   "metadata": {},
   "outputs": [],
   "source": [
    "def beam_deflection(E, x):  # x is sensor position\n",
    "    return Q * x * (3 * L ** 2 - 4 * x ** 2) / (48 * E * I)"
   ]
  },
  {
   "cell_type": "code",
   "execution_count": 4,
   "metadata": {},
   "outputs": [],
   "source": [
    "class BeamModel(ForwardModelBase):\n",
    "    def interface(self):\n",
    "        self.parameters = [\"E\"]\n",
    "        self.input_sensors = Sensor(\"x\")\n",
    "        self.output_sensors = Sensor(\"y\", std_model=\"sigma\")\n",
    "\n",
    "    def response(self, inp: dict) -> dict:\n",
    "        E = inp[\"E\"]\n",
    "        x = inp[\"x\"]\n",
    "        return {\"y\": [beam_deflection(E, float(x[0])), beam_deflection(E, float(x[1]))]}  # float() needed, probably a bug in probeye"
   ]
  },
  {
   "cell_type": "markdown",
   "metadata": {},
   "source": [
    "## Define inverse problem"
   ]
  },
  {
   "cell_type": "code",
   "execution_count": 5,
   "metadata": {},
   "outputs": [],
   "source": [
    "# Instantiate the inverse problem\n",
    "problem = InverseProblem(\"Beam model with two sensors\", print_header=False)\n",
    "\n",
    "# Add latent parameters\n",
    "problem.add_parameter(\n",
    "    \"E\",\n",
    "    tex=\"$E$\",\n",
    "    info=\"Elastic modulus of the beam (GPa)\",\n",
    "    prior=Normal(mean=E_mean, std=E_std),\n",
    ")\n",
    "\n",
    "# Add fixed parameters\n",
    "problem.add_parameter(\n",
    "    \"sigma\",\n",
    "    tex=\"$\\sigma$\",\n",
    "    info=\"Standard deviation of the model error (mm)\",\n",
    "    value=sigma_model,\n",
    ")\n",
    "problem.add_parameter(\n",
    "    \"l_corr\",\n",
    "    tex=\"$l_{corr}$\",\n",
    "    info=\"Correlation length of the model error (mm)\",\n",
    "    value=l_corr,\n",
    ")\n",
    "\n",
    "# Add measurement data\n",
    "problem.add_experiment(\n",
    "    name=\"TestSeries_1\",\n",
    "    sensor_data={\"x\": x_sensors, \"y\": d_sensors}\n",
    ")\n",
    "                 \n",
    "# Add forward model\n",
    "problem.add_forward_model(BeamModel(\"BeamModel\"), experiments=\"TestSeries_1\")\n",
    "\n",
    "# Add likelihood model\n",
    "likelihood_model = GaussianLikelihoodModel(\n",
    "        experiment_name=\"TestSeries_1\", \n",
    "        model_error=\"additive\",\n",
    "        correlation=ExpModel(x=\"l_corr\")\n",
    "        )\n",
    "problem.add_likelihood_model(likelihood_model)\n"
   ]
  },
  {
   "cell_type": "markdown",
   "metadata": {},
   "source": [
    "## Solve with MCMC"
   ]
  },
  {
   "cell_type": "code",
   "execution_count": 6,
   "metadata": {},
   "outputs": [
    {
     "name": "stdout",
     "output_type": "stream",
     "text": [
      "\u001b[32m2024-07-08 21:20:41.409\u001b[0m | \u001b[1mINFO    \u001b[0m | \u001b[1mSolving problem using emcee sampler with 2000 + 2000 samples and 20 walkers                         \u001b[0m | \u001b[36mprobeye.inference.emcee.solver\u001b[0m:\u001b[36mrun\u001b[0m:\u001b[36m178\u001b[0m\n",
      "\u001b[32m2024-07-08 21:20:41.411\u001b[0m | \u001b[1mINFO    \u001b[0m | \u001b[1mNo additional options specified                                                                     \u001b[0m | \u001b[36mprobeye.inference.emcee.solver\u001b[0m:\u001b[36mrun\u001b[0m:\u001b[36m186\u001b[0m\n"
     ]
    },
    {
     "name": "stderr",
     "output_type": "stream",
     "text": [
      "100%|██████████| 2000/2000 [00:09<00:00, 209.78it/s]\n",
      "100%|██████████| 2000/2000 [00:08<00:00, 228.65it/s]"
     ]
    },
    {
     "name": "stdout",
     "output_type": "stream",
     "text": [
      "\u001b[32m2024-07-08 21:20:59.714\u001b[0m | \u001b[1mINFO    \u001b[0m | \u001b[1mSampling of the posterior distribution completed: 2000 steps and 20 walkers.                        \u001b[0m | \u001b[36mprobeye.inference.emcee.solver\u001b[0m:\u001b[36mrun\u001b[0m:\u001b[36m255\u001b[0m\n",
      "\u001b[32m2024-07-08 21:20:59.715\u001b[0m | \u001b[1mINFO    \u001b[0m | \u001b[1mTotal run-time (including initial sampling): 18s.                                                   \u001b[0m | \u001b[36mprobeye.inference.emcee.solver\u001b[0m:\u001b[36mrun\u001b[0m:\u001b[36m259\u001b[0m\n",
      "\u001b[32m2024-07-08 21:20:59.715\u001b[0m | \u001b[1mINFO    \u001b[0m | \u001b[1m                                                                                                    \u001b[0m | \u001b[36mprobeye.inference.emcee.solver\u001b[0m:\u001b[36mrun\u001b[0m:\u001b[36m260\u001b[0m\n",
      "\u001b[32m2024-07-08 21:20:59.716\u001b[0m | \u001b[1mINFO    \u001b[0m | \u001b[1mSummary of sampling results (emcee)                                                                 \u001b[0m | \u001b[36mprobeye.inference.emcee.solver\u001b[0m:\u001b[36mrun\u001b[0m:\u001b[36m261\u001b[0m\n",
      "\u001b[32m2024-07-08 21:20:59.719\u001b[0m | \u001b[1mINFO    \u001b[0m | \u001b[1m      mean    median     sd     5%    95%                                                           \u001b[0m | \u001b[36mprobeye.inference.emcee.solver\u001b[0m:\u001b[36memcee_summary\u001b[0m:\u001b[36m137\u001b[0m\n",
      "\u001b[32m2024-07-08 21:20:59.720\u001b[0m | \u001b[1mINFO    \u001b[0m | \u001b[1m--  ------  --------  -----  -----  -----                                                           \u001b[0m | \u001b[36mprobeye.inference.emcee.solver\u001b[0m:\u001b[36memcee_summary\u001b[0m:\u001b[36m137\u001b[0m\n",
      "\u001b[32m2024-07-08 21:20:59.720\u001b[0m | \u001b[1mINFO    \u001b[0m | \u001b[1mE    49.49     47.95  10.65  35.11  69.54                                                           \u001b[0m | \u001b[36mprobeye.inference.emcee.solver\u001b[0m:\u001b[36memcee_summary\u001b[0m:\u001b[36m137\u001b[0m\n",
      "\u001b[32m2024-07-08 21:20:59.721\u001b[0m | \u001b[1mINFO    \u001b[0m | \u001b[1m                                                                                                    \u001b[0m | \u001b[36mprobeye.inference.emcee.solver\u001b[0m:\u001b[36mrun\u001b[0m:\u001b[36m267\u001b[0m\n"
     ]
    },
    {
     "name": "stderr",
     "output_type": "stream",
     "text": [
      "\n"
     ]
    }
   ],
   "source": [
    "emcee_solver = EmceeSolver(problem, show_progress=True)\n",
    "inference_data = emcee_solver.run(n_steps=2000, n_initial_steps=2000)"
   ]
  },
  {
   "cell_type": "markdown",
   "metadata": {},
   "source": [
    "## Plot"
   ]
  },
  {
   "cell_type": "code",
   "execution_count": 7,
   "metadata": {},
   "outputs": [
    {
     "data": {
      "image/png": "[encoded data removed]",
      "text/plain": [
       "<Figure size 250x300 with 1 Axes>"
      ]
     },
     "metadata": {},
     "output_type": "display_data"
    }
   ],
   "source": [
    "post_plot_array = create_posterior_plot(\n",
    "    inference_data,\n",
    "    emcee_solver.problem,\n",
    "    kind=\"kde\",\n",
    "    title=\"Kernel density estimate of the posterior distribution\",\n",
    ")"
   ]
  },
  {
   "cell_type": "markdown",
   "metadata": {},
   "source": [
    ":::{note} Complete Code! 📃💻\n",
    ":class: dropdown\n",
    "Here’s the complete code that you would run in your PC:\n",
    "\n",
    "```python\n",
    "\n",
    "import numpy as np\n",
    "\n",
    "# Problem definition\n",
    "from probeye.definition.inverse_problem import InverseProblem\n",
    "from probeye.definition.forward_model import ForwardModelBase\n",
    "from probeye.definition.distribution import Normal\n",
    "from probeye.definition.sensor import Sensor\n",
    "from probeye.definition.likelihood_model import GaussianLikelihoodModel\n",
    "from probeye.definition.correlation_model import ExpModel\n",
    "\n",
    "# Inference\n",
    "from probeye.inference.emcee.solver import EmceeSolver\n",
    "\n",
    "# Postprocessing\n",
    "from probeye.postprocessing.sampling_plots import create_posterior_plot\n",
    "\n",
    "# Fixed parameters\n",
    "I = 1e9  # mm^4\n",
    "L = 10_000  # mm\n",
    "Q = 100  # kN\n",
    "\n",
    "# Measurements\n",
    "x_sensors = [2500, 5000]  # mm  (always from lower to higher, bug in inv_cov_vec_1D in tripy)\n",
    "d_sensors = [35, 50]  # mm\n",
    "sigma_model = 10  # mm\n",
    "pearson = 0.5\n",
    "l_corr = -np.abs(x_sensors[1] - x_sensors[0]) / np.log(pearson)  # mm (assuming exponential correlation)\n",
    "\n",
    "# Prior\n",
    "E_mean = 60  # GPa\n",
    "E_std = 20  # GPa\n",
    "\n",
    "def beam_deflection(E, x):  # x is sensor position\n",
    "    return Q * x * (3 * L ** 2 - 4 * x ** 2) / (48 * E * I)\n",
    "\t\n",
    "# Instantiate the inverse problem\n",
    "problem = InverseProblem(\"Beam model with two sensors\", print_header=False)\n",
    "\n",
    "# Add latent parameters\n",
    "problem.add_parameter(\n",
    "    \"E\",\n",
    "    tex=\"$E$\",\n",
    "    info=\"Elastic modulus of the beam (GPa)\",\n",
    "    prior=Normal(mean=E_mean, std=E_std),\n",
    ")\n",
    "\n",
    "# Add fixed parameters\n",
    "problem.add_parameter(\n",
    "    \"sigma\",\n",
    "    tex=\"$\\sigma$\",\n",
    "    info=\"Standard deviation of the model error (mm)\",\n",
    "    value=sigma_model,\n",
    ")\n",
    "problem.add_parameter(\n",
    "    \"l_corr\",\n",
    "    tex=\"$l_{corr}$\",\n",
    "    info=\"Correlation length of the model error (mm)\",\n",
    "    value=l_corr,\n",
    ")\n",
    "\n",
    "# Add measurement data\n",
    "problem.add_experiment(\n",
    "    name=\"TestSeries_1\",\n",
    "    sensor_data={\"x\": x_sensors, \"y\": d_sensors}\n",
    ")\n",
    "                 \n",
    "# Add forward model\n",
    "problem.add_forward_model(BeamModel(\"BeamModel\"), experiments=\"TestSeries_1\")\n",
    "\n",
    "# Add likelihood model\n",
    "likelihood_model = GaussianLikelihoodModel(\n",
    "        experiment_name=\"TestSeries_1\", \n",
    "        model_error=\"additive\",\n",
    "        correlation=ExpModel(x=\"l_corr\")\n",
    "        )\n",
    "problem.add_likelihood_model(likelihood_model)\n",
    "\n",
    "\n",
    "#solve with MCMC\n",
    "emcee_solver = EmceeSolver(problem, show_progress=True)\n",
    "inference_data = emcee_solver.run(n_steps=2000, n_initial_steps=2000)\n",
    "\n",
    "#Plot\n",
    "post_plot_array = create_posterior_plot(\n",
    "    inference_data,\n",
    "    emcee_solver.problem,\n",
    "    kind=\"kde\",\n",
    "    title=\"Kernel density estimate of the posterior distribution\",\n",
    ")\n",
    "\n",
    "```\n",
    ":::"
   ]
  },
  {
   "cell_type": "markdown",
   "metadata": {},
   "source": []
  }
 ],
 "metadata": {
  "kernelspec": {
   "display_name": "venv",
   "language": "python",
   "name": "python3"
  },
  "language_info": {
   "codemirror_mode": {
    "name": "ipython",
    "version": 3
   },
   "file_extension": ".py",
   "mimetype": "text/x-python",
   "name": "python",
   "nbconvert_exporter": "python",
   "pygments_lexer": "ipython3",
   "version": "3.11.5"
  }
 },
 "nbformat": 4,
 "nbformat_minor": 2
}
