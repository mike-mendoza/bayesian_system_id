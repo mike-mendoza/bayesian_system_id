{
 "cells": [
  {
   "cell_type": "markdown",
   "metadata": {},
   "source": [
    "# 7. Nested sampling\n",
    "\n",
    "Nested sampling is an alternative to MCMC methods that overcomes two of its major struggles: \n",
    "- Calculates the evidence, which serves for model selection\n",
    "- Works well with multimodal problems\n",
    "\n",
    "Nested sampling is based on breaking the posterior into nested slices with increasing likelihoods\n",
    "\n",
    "The samples are then recombined with appropriate weights to yield a posterior estimate\n",
    "\n",
    "\n",
    "```{figure} ../figures/nested_sampling.png\n",
    ":alt: nested sampling\n",
    ":width: 300px\n",
    ":align: center\n",
    "“Nested sampling for physical scientists”, Ashton et. al. (2022)\n",
    "```\n",
    "\n",
    "## Task \n",
    "\n",
    "- Get the posterior from **exercise 6**, but with `dynesty` solver\n",
    "\n",
    "- Test `static` and `dynamic` for argument `estimation_method`\n",
    "\n",
    "- Use different values for the number of live points `nlive`\n"
   ]
  },
  {
   "cell_type": "code",
   "execution_count": 2,
   "metadata": {},
   "outputs": [],
   "source": [
    "import numpy as np\n",
    "\n",
    "# Problem definition\n",
    "from probeye.definition.inverse_problem import InverseProblem\n",
    "from probeye.definition.forward_model import ForwardModelBase\n",
    "from probeye.definition.distribution import Normal, Uniform\n",
    "from probeye.definition.sensor import Sensor\n",
    "from probeye.definition.likelihood_model import GaussianLikelihoodModel\n",
    "from probeye.definition.correlation_model import ExpModel\n",
    "\n",
    "# Inference\n",
    "from probeye.inference.dynesty.solver import DynestySolver"
   ]
  },
  {
   "cell_type": "markdown",
   "metadata": {},
   "source": [
    "## Problem setup"
   ]
  },
  {
   "cell_type": "code",
   "execution_count": 3,
   "metadata": {},
   "outputs": [],
   "source": [
    "# Fixed parameters\n",
    "I = 1e9  # mm^4\n",
    "L = 10_000  # mm\n",
    "\n",
    "# Measurements\n",
    "x_sensors = [2500, 5000]  # mm  (always from lower to higher, bug in inv_cov_vec_1D in tripy)\n",
    "d_sensors = [35, 50]  # mm\n",
    "sigma_model = 2.5  # mm\n",
    "pearson = 0.5\n",
    "l_corr = -np.abs(x_sensors[1] - x_sensors[0]) / np.log(pearson)  # mm (assuming exponential correlation)\n",
    "\n",
    "# Prior\n",
    "E_mean = 60  # GPa\n",
    "E_std = 20  # GPa\n",
    "Q_mean = 60  # kN\n",
    "Q_std = 30  # kN\n",
    "Q_loc_low = 0  # mm\n",
    "Q_loc_high = 10000  # mm"
   ]
  },
  {
   "cell_type": "markdown",
   "metadata": {},
   "source": [
    "## Define forward model"
   ]
  },
  {
   "cell_type": "code",
   "execution_count": 4,
   "metadata": {},
   "outputs": [],
   "source": [
    "def beam_deflection(E, Q, a, x):  # a is load position, x is sensor position\n",
    "    if x < a:\n",
    "        b = L - a\n",
    "        return Q * b * x * (L ** 2 - b ** 2 - x ** 2) / (6 * E * I * L)\n",
    "    \n",
    "    return Q * a * (L - x) * (2 * L * x - x ** 2 - a ** 2) / (6 * E * I * L)"
   ]
  },
  {
   "cell_type": "code",
   "execution_count": 5,
   "metadata": {},
   "outputs": [],
   "source": [
    "class BeamModel(ForwardModelBase):\n",
    "    def interface(self):\n",
    "        self.parameters = [\"E\", \"Q\", \"a\"]\n",
    "        self.input_sensors = Sensor(\"x\")\n",
    "        self.output_sensors = Sensor(\"y\", std_model=\"sigma\")\n",
    "\n",
    "    def response(self, inp: dict) -> dict:\n",
    "        E = inp[\"E\"]\n",
    "        Q = inp[\"Q\"]\n",
    "        a = inp[\"a\"]\n",
    "        x = inp[\"x\"]\n",
    "        return {\"y\": [beam_deflection(E, Q, a, float(x[0])), beam_deflection(E, Q, a, float(x[1]))]}  # float() needed, probably a bug in probeye"
   ]
  },
  {
   "cell_type": "markdown",
   "metadata": {},
   "source": [
    "## Define inverse problem"
   ]
  },
  {
   "cell_type": "code",
   "execution_count": 6,
   "metadata": {},
   "outputs": [],
   "source": [
    "# Instantiate the inverse problem\n",
    "problem = InverseProblem(\"Beam model with two sensors\", print_header=False)\n",
    "\n",
    "# Add latent parameters\n",
    "problem.add_parameter(\n",
    "    \"E\",\n",
    "    tex=\"$E$\",\n",
    "    info=\"Elastic modulus of the beam (GPa)\",\n",
    "    prior=Normal(mean=E_mean, std=E_std),\n",
    ")\n",
    "problem.add_parameter(\n",
    "    \"Q\",\n",
    "    tex=\"$Q$\",\n",
    "    info=\"Load applied to the beam (kN)\",\n",
    "    prior=Normal(mean=Q_mean, std=Q_std),\n",
    ")\n",
    "problem.add_parameter(\n",
    "    \"a\",\n",
    "    tex=\"$a$\",\n",
    "    info=\"Position of the load (mm)\",\n",
    "    prior=Uniform(low=Q_loc_low, high=Q_loc_high)\n",
    ")\n",
    "\n",
    "# Add fixed parameters\n",
    "problem.add_parameter(\n",
    "    \"sigma\",\n",
    "    tex=\"$\\sigma$\",\n",
    "    info=\"Standard deviation of the model error (mm)\",\n",
    "    value=sigma_model,\n",
    ")\n",
    "problem.add_parameter(\n",
    "    \"l_corr\",\n",
    "    tex=\"$l_{corr}$\",\n",
    "    info=\"Correlation length of the model error (mm)\",\n",
    "    value=l_corr,\n",
    ")\n",
    "\n",
    "# Add measurement data\n",
    "problem.add_experiment(\n",
    "    name=\"TestSeries_1\",\n",
    "    sensor_data={\"x\": x_sensors, \"y\": d_sensors}\n",
    ")\n",
    "                 \n",
    "# Add forward model\n",
    "problem.add_forward_model(BeamModel(\"BeamModel\"), experiments=\"TestSeries_1\")\n",
    "\n",
    "# Add likelihood model\n",
    "likelihood_model = GaussianLikelihoodModel(\n",
    "        experiment_name=\"TestSeries_1\", \n",
    "        model_error=\"additive\",\n",
    "        correlation=ExpModel(x=\"l_corr\")\n",
    "        )\n",
    "problem.add_likelihood_model(likelihood_model)\n"
   ]
  },
  {
   "cell_type": "markdown",
   "metadata": {},
   "source": [
    "## Solve with Dynesty\n",
    "### Dynamic method"
   ]
  },
  {
   "cell_type": "code",
   "execution_count": 7,
   "metadata": {},
   "outputs": [
    {
     "name": "stdout",
     "output_type": "stream",
     "text": [
      "\u001b[32m2024-07-09 13:49:15.346\u001b[0m | \u001b[1mINFO    \u001b[0m | \u001b[1mSolving problem using dynesty sampler with keyword arguments: {}                                    \u001b[0m | \u001b[36mprobeye.inference.dynesty.solver\u001b[0m:\u001b[36mrun\u001b[0m:\u001b[36m214\u001b[0m\n"
     ]
    },
    {
     "name": "stderr",
     "output_type": "stream",
     "text": [
      "13037it [02:52, 75.43it/s, batch: 15 | bound: 16 | nc: 6 | ncall: 237599 | eff(%):  5.487 | loglstar: -5.836 < -3.528 < -3.939 | logz: -8.707 +/-  0.056 | stop:  0.955]         "
     ]
    },
    {
     "name": "stdout",
     "output_type": "stream",
     "text": [
      "\u001b[32m2024-07-09 13:52:08.204\u001b[0m | \u001b[1mINFO    \u001b[0m | \u001b[1mTotal run-time: 2m52s.                                                                              \u001b[0m | \u001b[36mprobeye.inference.dynesty.solver\u001b[0m:\u001b[36mrun\u001b[0m:\u001b[36m252\u001b[0m\n",
      "\u001b[32m2024-07-09 13:52:08.204\u001b[0m | \u001b[1mINFO    \u001b[0m | \u001b[1mResample weighted samples to equal samples for post                                                 \u001b[0m | \u001b[36mprobeye.inference.dynesty.solver\u001b[0m:\u001b[36mrun\u001b[0m:\u001b[36m253\u001b[0m\n",
      "\u001b[32m2024-07-09 13:52:08.204\u001b[0m | \u001b[1mINFO    \u001b[0m | \u001b[1mprocessing. Access the original dynesty results via  .raw_results                                   \u001b[0m | \u001b[36mprobeye.inference.dynesty.solver\u001b[0m:\u001b[36mrun\u001b[0m:\u001b[36m254\u001b[0m\n"
     ]
    },
    {
     "name": "stderr",
     "output_type": "stream",
     "text": [
      "\n"
     ]
    },
    {
     "name": "stdout",
     "output_type": "stream",
     "text": [
      "\u001b[32m2024-07-09 13:52:08.292\u001b[0m | \u001b[1mINFO    \u001b[0m | \u001b[1m                                                                                                    \u001b[0m | \u001b[36mprobeye.inference.dynesty.solver\u001b[0m:\u001b[36mrun\u001b[0m:\u001b[36m257\u001b[0m\n",
      "\u001b[32m2024-07-09 13:52:08.292\u001b[0m | \u001b[1mINFO    \u001b[0m | \u001b[1mSummary of sampling results (dynesty)                                                               \u001b[0m | \u001b[36mprobeye.inference.dynesty.solver\u001b[0m:\u001b[36mrun\u001b[0m:\u001b[36m259\u001b[0m\n",
      "\u001b[32m2024-07-09 13:52:08.306\u001b[0m | \u001b[1mINFO    \u001b[0m | \u001b[1m       mean    median       sd       5%      95%                                                    \u001b[0m | \u001b[36mprobeye.inference.dynesty.solver\u001b[0m:\u001b[36mget_summary\u001b[0m:\u001b[36m176\u001b[0m\n",
      "\u001b[32m2024-07-09 13:52:08.307\u001b[0m | \u001b[1mINFO    \u001b[0m | \u001b[1m--  -------  --------  -------  -------  -------                                                    \u001b[0m | \u001b[36mprobeye.inference.dynesty.solver\u001b[0m:\u001b[36mget_summary\u001b[0m:\u001b[36m176\u001b[0m\n",
      "\u001b[32m2024-07-09 13:52:08.307\u001b[0m | \u001b[1mINFO    \u001b[0m | \u001b[1mE     36.16     35.89    10.32    19.36    53.22                                                    \u001b[0m | \u001b[36mprobeye.inference.dynesty.solver\u001b[0m:\u001b[36mget_summary\u001b[0m:\u001b[36m176\u001b[0m\n",
      "\u001b[32m2024-07-09 13:52:08.307\u001b[0m | \u001b[1mINFO    \u001b[0m | \u001b[1mQ     91.47     90.95    24.26    52.11   131.36                                                    \u001b[0m | \u001b[36mprobeye.inference.dynesty.solver\u001b[0m:\u001b[36mget_summary\u001b[0m:\u001b[36m176\u001b[0m\n",
      "\u001b[32m2024-07-09 13:52:08.307\u001b[0m | \u001b[1mINFO    \u001b[0m | \u001b[1ma   5116.46   4992.09  1074.82  3586.37  7092.71                                                    \u001b[0m | \u001b[36mprobeye.inference.dynesty.solver\u001b[0m:\u001b[36mget_summary\u001b[0m:\u001b[36m176\u001b[0m\n",
      "\u001b[32m2024-07-09 13:52:08.307\u001b[0m | \u001b[1mINFO    \u001b[0m | \u001b[1m                                                                                                    \u001b[0m | \u001b[36mprobeye.inference.dynesty.solver\u001b[0m:\u001b[36mrun\u001b[0m:\u001b[36m262\u001b[0m\n",
      "\u001b[32m2024-07-09 13:52:08.339\u001b[0m | \u001b[1mINFO    \u001b[0m | \u001b[1mPosterior log evidence: -8.704431158428637                                                          \u001b[0m | \u001b[36mprobeye.inference.dynesty.solver\u001b[0m:\u001b[36mrun\u001b[0m:\u001b[36m263\u001b[0m\n",
      "\u001b[32m2024-07-09 13:52:08.339\u001b[0m | \u001b[1mINFO    \u001b[0m | \u001b[1m                                                                                                    \u001b[0m | \u001b[36mprobeye.inference.dynesty.solver\u001b[0m:\u001b[36mrun\u001b[0m:\u001b[36m264\u001b[0m\n"
     ]
    }
   ],
   "source": [
    "dynesty_solver = DynestySolver(problem, show_progress=True)\n",
    "inference_data = dynesty_solver.run(estimation_method='dynamic', nlive=250)"
   ]
  },
  {
   "cell_type": "markdown",
   "metadata": {},
   "source": [
    "### Static method"
   ]
  },
  {
   "cell_type": "code",
   "execution_count": 9,
   "metadata": {},
   "outputs": [
    {
     "name": "stdout",
     "output_type": "stream",
     "text": [
      "\u001b[32m2024-07-09 13:53:10.164\u001b[0m | \u001b[1mINFO    \u001b[0m | \u001b[1mSolving problem using dynesty sampler with keyword arguments: {}                                    \u001b[0m | \u001b[36mprobeye.inference.dynesty.solver\u001b[0m:\u001b[36mrun\u001b[0m:\u001b[36m214\u001b[0m\n"
     ]
    },
    {
     "name": "stderr",
     "output_type": "stream",
     "text": [
      "1711it [00:12, 131.93it/s, +250 | bound: 23 | nc: 1 | ncall: 18456 | eff(%): 10.771 | loglstar:   -inf < -3.528 <    inf | logz: -8.903 +/-  0.132 | dlogz:  0.001 >  0.259]"
     ]
    },
    {
     "name": "stdout",
     "output_type": "stream",
     "text": [
      "\u001b[32m2024-07-09 13:53:23.259\u001b[0m | \u001b[1mINFO    \u001b[0m | \u001b[1mTotal run-time: 13s.                                                                                \u001b[0m | \u001b[36mprobeye.inference.dynesty.solver\u001b[0m:\u001b[36mrun\u001b[0m:\u001b[36m252\u001b[0m\n",
      "\u001b[32m2024-07-09 13:53:23.259\u001b[0m | \u001b[1mINFO    \u001b[0m | \u001b[1mResample weighted samples to equal samples for post                                                 \u001b[0m | \u001b[36mprobeye.inference.dynesty.solver\u001b[0m:\u001b[36mrun\u001b[0m:\u001b[36m253\u001b[0m\n",
      "\u001b[32m2024-07-09 13:53:23.259\u001b[0m | \u001b[1mINFO    \u001b[0m | \u001b[1mprocessing. Access the original dynesty results via  .raw_results                                   \u001b[0m | \u001b[36mprobeye.inference.dynesty.solver\u001b[0m:\u001b[36mrun\u001b[0m:\u001b[36m254\u001b[0m\n",
      "\u001b[32m2024-07-09 13:53:23.284\u001b[0m | \u001b[1mINFO    \u001b[0m | \u001b[1m                                                                                                    \u001b[0m | \u001b[36mprobeye.inference.dynesty.solver\u001b[0m:\u001b[36mrun\u001b[0m:\u001b[36m257\u001b[0m\n",
      "\u001b[32m2024-07-09 13:53:23.285\u001b[0m | \u001b[1mINFO    \u001b[0m | \u001b[1mSummary of sampling results (dynesty)                                                               \u001b[0m | \u001b[36mprobeye.inference.dynesty.solver\u001b[0m:\u001b[36mrun\u001b[0m:\u001b[36m259\u001b[0m\n",
      "\u001b[32m2024-07-09 13:53:23.287\u001b[0m | \u001b[1mINFO    \u001b[0m | \u001b[1m       mean    median       sd       5%      95%                                                    \u001b[0m | \u001b[36mprobeye.inference.dynesty.solver\u001b[0m:\u001b[36mget_summary\u001b[0m:\u001b[36m176\u001b[0m\n",
      "\u001b[32m2024-07-09 13:53:23.287\u001b[0m | \u001b[1mINFO    \u001b[0m | \u001b[1m--  -------  --------  -------  -------  -------                                                    \u001b[0m | \u001b[36mprobeye.inference.dynesty.solver\u001b[0m:\u001b[36mget_summary\u001b[0m:\u001b[36m176\u001b[0m\n",
      "\u001b[32m2024-07-09 13:53:23.288\u001b[0m | \u001b[1mINFO    \u001b[0m | \u001b[1mE     36.19     35.74    10.46    20.00    54.31                                                    \u001b[0m | \u001b[36mprobeye.inference.dynesty.solver\u001b[0m:\u001b[36mget_summary\u001b[0m:\u001b[36m176\u001b[0m\n",
      "\u001b[32m2024-07-09 13:53:23.288\u001b[0m | \u001b[1mINFO    \u001b[0m | \u001b[1mQ     91.77     91.11    24.53    52.12   133.51                                                    \u001b[0m | \u001b[36mprobeye.inference.dynesty.solver\u001b[0m:\u001b[36mget_summary\u001b[0m:\u001b[36m176\u001b[0m\n",
      "\u001b[32m2024-07-09 13:53:23.289\u001b[0m | \u001b[1mINFO    \u001b[0m | \u001b[1ma   5123.58   4964.92  1098.20  3533.73  7123.92                                                    \u001b[0m | \u001b[36mprobeye.inference.dynesty.solver\u001b[0m:\u001b[36mget_summary\u001b[0m:\u001b[36m176\u001b[0m\n",
      "\u001b[32m2024-07-09 13:53:23.289\u001b[0m | \u001b[1mINFO    \u001b[0m | \u001b[1m                                                                                                    \u001b[0m | \u001b[36mprobeye.inference.dynesty.solver\u001b[0m:\u001b[36mrun\u001b[0m:\u001b[36m262\u001b[0m\n",
      "\u001b[32m2024-07-09 13:53:23.297\u001b[0m | \u001b[1mINFO    \u001b[0m | \u001b[1mPosterior log evidence: -8.903074451796726                                                          \u001b[0m | \u001b[36mprobeye.inference.dynesty.solver\u001b[0m:\u001b[36mrun\u001b[0m:\u001b[36m263\u001b[0m\n",
      "\u001b[32m2024-07-09 13:53:23.298\u001b[0m | \u001b[1mINFO    \u001b[0m | \u001b[1m                                                                                                    \u001b[0m | \u001b[36mprobeye.inference.dynesty.solver\u001b[0m:\u001b[36mrun\u001b[0m:\u001b[36m264\u001b[0m\n"
     ]
    },
    {
     "name": "stderr",
     "output_type": "stream",
     "text": [
      "\n"
     ]
    }
   ],
   "source": [
    "dynesty_solver = DynestySolver(problem, show_progress=True)\n",
    "inference_data = dynesty_solver.run(estimation_method='static', nlive=250)"
   ]
  },
  {
   "cell_type": "markdown",
   "metadata": {},
   "source": [
    "### Increasing the number of live points"
   ]
  },
  {
   "cell_type": "code",
   "execution_count": 10,
   "metadata": {},
   "outputs": [
    {
     "name": "stdout",
     "output_type": "stream",
     "text": [
      "\u001b[32m2024-07-09 13:56:46.694\u001b[0m | \u001b[1mINFO    \u001b[0m | \u001b[1mSolving problem using dynesty sampler with keyword arguments: {}                                    \u001b[0m | \u001b[36mprobeye.inference.dynesty.solver\u001b[0m:\u001b[36mrun\u001b[0m:\u001b[36m214\u001b[0m\n"
     ]
    },
    {
     "name": "stderr",
     "output_type": "stream",
     "text": [
      "5383it [00:38, 140.07it/s, +1000 | bound: 13 | nc: 1 | ncall: 55809 | eff(%): 11.646 | loglstar:   -inf < -3.527 <    inf | logz: -8.658 +/-  0.060 | dlogz:  0.001 >  1.009]"
     ]
    },
    {
     "name": "stdout",
     "output_type": "stream",
     "text": [
      "\u001b[32m2024-07-09 13:57:25.511\u001b[0m | \u001b[1mINFO    \u001b[0m | \u001b[1mTotal run-time: 38s.                                                                                \u001b[0m | \u001b[36mprobeye.inference.dynesty.solver\u001b[0m:\u001b[36mrun\u001b[0m:\u001b[36m252\u001b[0m\n",
      "\u001b[32m2024-07-09 13:57:25.511\u001b[0m | \u001b[1mINFO    \u001b[0m | \u001b[1mResample weighted samples to equal samples for post                                                 \u001b[0m | \u001b[36mprobeye.inference.dynesty.solver\u001b[0m:\u001b[36mrun\u001b[0m:\u001b[36m253\u001b[0m\n",
      "\u001b[32m2024-07-09 13:57:25.511\u001b[0m | \u001b[1mINFO    \u001b[0m | \u001b[1mprocessing. Access the original dynesty results via  .raw_results                                   \u001b[0m | \u001b[36mprobeye.inference.dynesty.solver\u001b[0m:\u001b[36mrun\u001b[0m:\u001b[36m254\u001b[0m\n"
     ]
    },
    {
     "name": "stderr",
     "output_type": "stream",
     "text": [
      "\n"
     ]
    },
    {
     "name": "stdout",
     "output_type": "stream",
     "text": [
      "\u001b[32m2024-07-09 13:57:25.583\u001b[0m | \u001b[1mINFO    \u001b[0m | \u001b[1m                                                                                                    \u001b[0m | \u001b[36mprobeye.inference.dynesty.solver\u001b[0m:\u001b[36mrun\u001b[0m:\u001b[36m257\u001b[0m\n",
      "\u001b[32m2024-07-09 13:57:25.584\u001b[0m | \u001b[1mINFO    \u001b[0m | \u001b[1mSummary of sampling results (dynesty)                                                               \u001b[0m | \u001b[36mprobeye.inference.dynesty.solver\u001b[0m:\u001b[36mrun\u001b[0m:\u001b[36m259\u001b[0m\n",
      "\u001b[32m2024-07-09 13:57:25.587\u001b[0m | \u001b[1mINFO    \u001b[0m | \u001b[1m       mean    median       sd       5%      95%                                                    \u001b[0m | \u001b[36mprobeye.inference.dynesty.solver\u001b[0m:\u001b[36mget_summary\u001b[0m:\u001b[36m176\u001b[0m\n",
      "\u001b[32m2024-07-09 13:57:25.587\u001b[0m | \u001b[1mINFO    \u001b[0m | \u001b[1m--  -------  --------  -------  -------  -------                                                    \u001b[0m | \u001b[36mprobeye.inference.dynesty.solver\u001b[0m:\u001b[36mget_summary\u001b[0m:\u001b[36m176\u001b[0m\n",
      "\u001b[32m2024-07-09 13:57:25.587\u001b[0m | \u001b[1mINFO    \u001b[0m | \u001b[1mE     36.46     36.40    10.64    18.92    53.48                                                    \u001b[0m | \u001b[36mprobeye.inference.dynesty.solver\u001b[0m:\u001b[36mget_summary\u001b[0m:\u001b[36m176\u001b[0m\n",
      "\u001b[32m2024-07-09 13:57:25.587\u001b[0m | \u001b[1mINFO    \u001b[0m | \u001b[1mQ     92.42     92.12    25.11    51.40   133.21                                                    \u001b[0m | \u001b[36mprobeye.inference.dynesty.solver\u001b[0m:\u001b[36mget_summary\u001b[0m:\u001b[36m176\u001b[0m\n",
      "\u001b[32m2024-07-09 13:57:25.587\u001b[0m | \u001b[1mINFO    \u001b[0m | \u001b[1ma   5120.10   5016.76  1079.53  3541.97  7051.63                                                    \u001b[0m | \u001b[36mprobeye.inference.dynesty.solver\u001b[0m:\u001b[36mget_summary\u001b[0m:\u001b[36m176\u001b[0m\n",
      "\u001b[32m2024-07-09 13:57:25.590\u001b[0m | \u001b[1mINFO    \u001b[0m | \u001b[1m                                                                                                    \u001b[0m | \u001b[36mprobeye.inference.dynesty.solver\u001b[0m:\u001b[36mrun\u001b[0m:\u001b[36m262\u001b[0m\n",
      "\u001b[32m2024-07-09 13:57:25.613\u001b[0m | \u001b[1mINFO    \u001b[0m | \u001b[1mPosterior log evidence: -8.658494081430753                                                          \u001b[0m | \u001b[36mprobeye.inference.dynesty.solver\u001b[0m:\u001b[36mrun\u001b[0m:\u001b[36m263\u001b[0m\n",
      "\u001b[32m2024-07-09 13:57:25.613\u001b[0m | \u001b[1mINFO    \u001b[0m | \u001b[1m                                                                                                    \u001b[0m | \u001b[36mprobeye.inference.dynesty.solver\u001b[0m:\u001b[36mrun\u001b[0m:\u001b[36m264\u001b[0m\n"
     ]
    }
   ],
   "source": [
    "dynesty_solver = DynestySolver(problem, show_progress=True)\n",
    "inference_data = dynesty_solver.run(estimation_method='static', nlive=1000)"
   ]
  }
 ],
 "metadata": {
  "kernelspec": {
   "display_name": "venv",
   "language": "python",
   "name": "python3"
  },
  "language_info": {
   "codemirror_mode": {
    "name": "ipython",
    "version": 3
   },
   "file_extension": ".py",
   "mimetype": "text/x-python",
   "name": "python",
   "nbconvert_exporter": "python",
   "pygments_lexer": "ipython3",
   "version": "3.11.5"
  }
 },
 "nbformat": 4,
 "nbformat_minor": 2
}
