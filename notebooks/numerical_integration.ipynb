{
 "cells": [
  {
   "cell_type": "markdown",
   "metadata": {},
   "source": [
    "# 3. Numerical integration\n",
    "\n",
    "Numerical integration is a straightforward implementation. This phenomenon can be expressed mathematically as:\n",
    "\n",
    "\n",
    "\n",
    "$n_{\\text{points}} \\sim \\prod_{j=1}^{d} n_{\\text{grids}} = n_{\\text{grids}}^{d}$\n",
    "\n",
    "where: \n",
    "- $ n_{\\text{points}} $: Represents the number of points.\n",
    "- $ \\prod_{j=1}^{d} n_{\\text{grids}} $: Indicates the product of $ n_{\\text{grids}} $ from $ j=1 $ to $ d $.\n",
    "- $ n_{\\text{grids}}^{d} $: Shows that the number of grids is raised to the power of $ d $.\n",
    "\n",
    "\n",
    "However, \"the curse of dimensionality\" exists.\n",
    "\n",
    "\n",
    "\n",
    "```{figure} ../figures/numericalintegration.png\n",
    ":alt: numerical integration example\n",
    ":width: 500px\n",
    ":align: center\n",
    "\"A Conceptual Introduction to Markov Chain Monte Carlo Methods\", Joshua Speagle (2019)\n",
    "```\n"
   ]
  },
  {
   "cell_type": "markdown",
   "metadata": {},
   "source": [
    "\n",
    "````{exercise}\n",
    ":label: exercise3\n",
    ":number: 3\n",
    "\n",
    "\n",
    "Estimate the elastic modulus ($E$) of a simply supported bean from a measured deflection ($\\delta_\\text{measured}$)\n",
    "\n",
    "```{figure} ../figures/numericalintegration_example.png\n",
    ":alt: numerical integration example\n",
    ":width: 300px\n",
    ":align: center\n",
    "```\n",
    "\n",
    "Assume that we know the following:\n",
    "\n",
    "- The measurement uncertainty of deflection follows a normal distribution with zero\n",
    "mean and 1 cm standard deviation.\n",
    "- The measurement uncertainty is additive:\n",
    "\n",
    "$\\delta_\\text{measured} = \\delta_\\text{real} + \\text{measurement}_\\text{unc}$\n",
    "\n",
    "- We have a single deflection measurement: $\\delta_\\text{measured} = 5$ cm.\n",
    "- The second moment of area (flexural inertia) of the beam is known, I = $1×10^5$ $\\text{cm}^4$.\n",
    "- The span of the beam is known, L = 10 m.\n",
    "- The self weight of the beam can be neglected, and it is loaded solely by a point load at the midspan with intensity, Q = 100 kN.\n",
    "- Bernoulli-Navier beam theory dis applicable, the material is linear elastic, the hinges at bot ends are perfec/idealized\n",
    "\n",
    "### Questions\n",
    "\n",
    "- What material is the beam made of? \n",
    "- How large is the elastic modulus of the beam? \n",
    "- Calculate the posterior of E. \n",
    "\n",
    "Assume a normal distribution on E as prior with small information content (flat prior with a huge standard deviation).\n",
    "````"
   ]
  },
  {
   "cell_type": "markdown",
   "metadata": {},
   "source": [
    ":::{hint}\n",
    ":class: dropdown\n",
    "Start with formulating the likelihood function! Useful formulas for simple beams.\n",
    "\n",
    "Prior $E$ $\\approx$ $N(60,20)$ GPa\n",
    "\n",
    "$\\delta_{max} = \\frac{QL^3}{48EI}$\n",
    "\n",
    "The measurement error is obtained by the following formula: \n",
    "\n",
    "$\\delta_{𝑒𝑟𝑟𝑜𝑟,𝑖} = 50 - \\frac{QL^3}{48E_iI}$\n",
    "\n",
    "For a given $𝐸_𝑖$, the probability density of having a measurement $\\delta_{measured}$ = 50 is the probability density of the normal distribution with mean $0$ and standard deviation 1, evaluated at $\\delta_{𝑒𝑟𝑟𝑜𝑟,𝑖}$\n",
    ":::"
   ]
  },
  {
   "cell_type": "markdown",
   "metadata": {},
   "source": [
    "## Imports\n"
   ]
  },
  {
   "cell_type": "code",
   "execution_count": 1,
   "metadata": {},
   "outputs": [],
   "source": [
    "import matplotlib.pyplot as plt\n",
    "import numpy as np\n",
    "from scipy import stats"
   ]
  },
  {
   "cell_type": "markdown",
   "metadata": {},
   "source": [
    "## Problem setup"
   ]
  },
  {
   "cell_type": "code",
   "execution_count": 2,
   "metadata": {},
   "outputs": [],
   "source": [
    "# Fixed parameters\n",
    "I = 1e9  # mm^4\n",
    "L = 10_000  # mm\n",
    "Q = 100  # kN\n",
    "\n",
    "# Measurements\n",
    "d_meas = 50  # mm\n",
    "sigma_meas =  10  # mm\n",
    "\n",
    "# Prior\n",
    "E_mean = 60  # GPa\n",
    "E_std = 20  # GPa"
   ]
  },
  {
   "cell_type": "markdown",
   "metadata": {},
   "source": [
    "## Forward model"
   ]
  },
  {
   "cell_type": "code",
   "execution_count": 3,
   "metadata": {},
   "outputs": [],
   "source": [
    "def midspan_deflection(E):\n",
    "    return Q * L ** 3 / (48 * E * I)"
   ]
  },
  {
   "cell_type": "markdown",
   "metadata": {},
   "source": [
    "## Bayesian functions"
   ]
  },
  {
   "cell_type": "code",
   "execution_count": 4,
   "metadata": {},
   "outputs": [],
   "source": [
    "def likelihood(E):\n",
    "    return stats.norm.pdf(d_meas, loc=midspan_deflection(E), scale=sigma_meas)\n",
    "\n",
    "\n",
    "def prior(E):\n",
    "    return stats.norm.pdf(E, loc=E_mean, scale=E_std)"
   ]
  },
  {
   "cell_type": "markdown",
   "metadata": {},
   "source": [
    "## Perform numerical integration"
   ]
  },
  {
   "cell_type": "code",
   "execution_count": 5,
   "metadata": {},
   "outputs": [],
   "source": [
    "E_values = np.linspace(-20, 140, 1000)\n",
    "prior_values = prior(E_values)\n",
    "likelihood_values = likelihood(E_values)\n",
    "\n",
    "evidence = np.trapz(prior_values * likelihood_values, E_values)\n",
    "posterior_values = prior_values * likelihood_values / evidence"
   ]
  },
  {
   "cell_type": "markdown",
   "metadata": {},
   "source": [
    "## Posterior summary\n",
    "\n",
    ":::{hint}\n",
    ":class: dropdown\n",
    "CDF:\n",
    "\n",
    "$F(A|B) =  \\left[ \\sum_{j=1}^{i}P(A|B) \\right ] \\left(A_i-A_{i-1}\\right)$\n",
    "\n",
    "Mean:\n",
    "\n",
    "$E(A|B) = \\int A\\cdot P(A|B)dA$\n",
    "\n",
    "Standard deviation: \n",
    "\n",
    "$\\sigma(A|B) = \\sqrt{\\text{Var}(A|B)}$\n",
    "\n",
    "$\\text{Var}(A|B) = \\int \\left(A-E(A|B)\\right)^2 \\cdot P(A|B)dA$\n",
    ":::\n"
   ]
  },
  {
   "cell_type": "code",
   "execution_count": 7,
   "metadata": {},
   "outputs": [
    {
     "name": "stdout",
     "output_type": "stream",
     "text": [
      "Mean: 49.93 GPa\n",
      "Median: 48.23 GPa\n",
      "Standard deviation: 10.98 GPa\n",
      "5th percentile: 35.03 GPa\n",
      "95th percentile: 70.38 GPa\n"
     ]
    }
   ],
   "source": [
    "# Mean\n",
    "mean = np.trapz(E_values * posterior_values, E_values)\n",
    "print(f'Mean: {mean:.2f} GPa')\n",
    "\n",
    "# Median\n",
    "cdf = np.cumsum(posterior_values) * np.diff(E_values, prepend=0)\n",
    "median = E_values[np.argmin(np.abs(cdf - 0.5))]\n",
    "print(f'Median: {median:.2f} GPa')\n",
    "\n",
    "# Standard deviation\n",
    "std = np.sqrt(np.trapz((E_values - mean) ** 2 * posterior_values, E_values))\n",
    "print(f'Standard deviation: {std:.2f} GPa')\n",
    "\n",
    "# 5th and 95th percentiles\n",
    "percentiles = np.interp([0.05, 0.95], cdf, E_values)\n",
    "print(f'5th percentile: {percentiles[0]:.2f} GPa')\n",
    "print(f'95th percentile: {percentiles[1]:.2f} GPa')"
   ]
  },
  {
   "cell_type": "markdown",
   "metadata": {},
   "source": [
    "## Plot"
   ]
  },
  {
   "cell_type": "code",
   "execution_count": null,
   "metadata": {},
   "outputs": [
    {
     "data": {
      "text/plain": [
       "<matplotlib.legend.Legend at 0x12b4462d250>"
      ]
     },
     "execution_count": 7,
     "metadata": {},
     "output_type": "execute_result"
    },
    {
     "data": {
      "image/png": "[encoded data removed]",
      "text/plain": [
       "<Figure size 640x480 with 1 Axes>"
      ]
     },
     "metadata": {},
     "output_type": "display_data"
    }
   ],
   "source": [
    "plt.plot(E_values, prior_values, label='Prior')\n",
    "plt.plot(E_values, likelihood_values, label='Likelihood')\n",
    "plt.plot(E_values, posterior_values, label='Posterior')\n",
    "plt.xlabel('E (GPa)')\n",
    "plt.ylabel('Density')\n",
    "plt.ylim([0, 0.045])\n",
    "plt.legend()\n",
    "plt.show()"
   ]
  },
  {
   "cell_type": "markdown",
   "metadata": {},
   "source": [
    ":::{note} Complete Code! 📃💻\n",
    ":class: dropdown\n",
    "Here’s the complete code that you would run in your PC:\n",
    "\n",
    "```python\n",
    "\n",
    "import matplotlib.pyplot as plt\n",
    "import numpy as np\n",
    "from scipy import stats\n",
    "\n",
    "# Fixed parameters\n",
    "I = 1e9  # mm^4\n",
    "L = 10_000  # mm\n",
    "Q = 100  # kN\n",
    "\n",
    "# Measurements\n",
    "d_meas = 50  # mm\n",
    "sigma_meas =  10  # mm\n",
    "\n",
    "# Prior\n",
    "E_mean = 60  # GPa\n",
    "E_std = 20  # GPa\n",
    "\n",
    "#forward model \n",
    "def midspan_deflection(E):\n",
    "    return Q * L ** 3 / (48 * E * I)\n",
    "\n",
    "def likelihood(E):\n",
    "    return stats.norm.pdf(d_meas, loc=midspan_deflection(E), scale=sigma_meas)\n",
    "\n",
    "\n",
    "def prior(E):\n",
    "    return stats.norm.pdf(E, loc=E_mean, scale=E_std)\n",
    "\n",
    "#numerical integration\n",
    "E_values = np.linspace(-20, 140, 1000)\n",
    "prior_values = prior(E_values)\n",
    "likelihood_values = likelihood(E_values)\n",
    "\n",
    "evidence = np.trapz(prior_values * likelihood_values, E_values)\n",
    "posterior_values = prior_values * likelihood_values / evidence\n",
    "\n",
    "#posterior summary\n",
    "# Mean\n",
    "mean = np.trapz(E_values * posterior_values, E_values)\n",
    "print(f'Mean: {mean:.2f} GPa')\n",
    "\n",
    "# Median\n",
    "cdf = np.cumsum(posterior_values) * np.diff(E_values, prepend=0)\n",
    "median = E_values[np.argmin(np.abs(cdf - 0.5))]\n",
    "print(f'Median: {median:.2f} GPa')\n",
    "\n",
    "# Standard deviation\n",
    "std = np.sqrt(np.trapz((E_values - mean) ** 2 * posterior_values, E_values))\n",
    "print(f'Standard deviation: {std:.2f} GPa')\n",
    "\n",
    "# 5th and 95th percentiles\n",
    "percentiles = np.interp([0.05, 0.95], cdf, E_values)\n",
    "print(f'5th percentile: {percentiles[0]:.2f} GPa')\n",
    "print(f'95th percentile: {percentiles[1]:.2f} GPa')\n",
    "\n",
    "plt.plot(E_values, prior_values, label='Prior')\n",
    "plt.plot(E_values, likelihood_values, label='Likelihood')\n",
    "plt.plot(E_values, posterior_values, label='Posterior')\n",
    "plt.xlabel('E (GPa)')\n",
    "plt.ylabel('Density')\n",
    "plt.ylim([0, 0.045])\n",
    "plt.legend()\n",
    "\n",
    "```\n",
    ":::"
   ]
  },
  {
   "cell_type": "markdown",
   "metadata": {},
   "source": []
  }
 ],
 "metadata": {
  "kernelspec": {
   "display_name": "base",
   "language": "python",
   "name": "python3"
  },
  "language_info": {
   "codemirror_mode": {
    "name": "ipython",
    "version": 3
   },
   "file_extension": ".py",
   "mimetype": "text/x-python",
   "name": "python",
   "nbconvert_exporter": "python",
   "pygments_lexer": "ipython3",
   "version": "3.12.5"
  }
 },
 "nbformat": 4,
 "nbformat_minor": 2
}
