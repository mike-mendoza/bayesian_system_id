{
 "cells": [
  {
   "cell_type": "markdown",
   "metadata": {},
   "source": [
    "# 4. Basic use of Probeye\n",
    "\n",
    "This package provides a transparent and easy-to-use framework for solving parameter estimation problems (i.e., inverse problems) primarily via sampling methods in a characteristic two-step approach.\n",
    "\n",
    "Some of the features include: \n",
    "- Multiple prior types accepted\n",
    "- Measurement data bookkeeping\n",
    "- Various methods supported\n",
    "- Postprocessing functionalities \n",
    "\n",
    "\n",
    "You can install the most recent stable version simply by running pip from the command line:\n",
    "\n",
    "```\n",
    "pip install probeye\n",
    "```\n",
    "\n",
    "\n",
    "\n",
    "More information can be found the [Pobeye documentation page](https://probeye.readthedocs.io/en/latest/index.html)"
   ]
  },
  {
   "cell_type": "markdown",
   "metadata": {},
   "source": [
    "```{exercise}\n",
    ":label: exercise4\n",
    ":number: 4\n",
    "Solve [exercise 3](#exercise3), but using Probeye with the **emcee** solver\n",
    "```\n",
    "\n",
    "% An admonition containing a note\n",
    ":::{note}\n",
    "`emcee` is a package implementing the “Affine invariant ensemble sampler” MCMC method\n",
    "\n",
    "Nice things about emcee : \n",
    "- You don’t need to provide a proposal distribution (usually difficult to hand-tune)\n",
    "- Can handle parameters with different orders of magnitude\n",
    "- It’s highly parallelizable  \n",
    "\n",
    ":::\n",
    "\n",
    "\n",
    "\n",
    ":::{hint}\n",
    ":class: dropdown\n",
    "\n",
    "Steps to follow: \n",
    "1. Define ForwardModelBase child class\n",
    "2. Instantiate InverseProblem\n",
    "3. Add Latent parameters\n",
    "4. Add Fixed parameters\n",
    "5. Add Experiment\n",
    "6. Add Forward model\n",
    "7. Add Likelihood model\n",
    "8. Solve with emcee\n",
    "\n",
    "See [Probeye simple linear regresion example](https://probeye.readthedocs.io/en/latest/auto_examples/plot_linear_regression.html)\n",
    "\n",
    ":::"
   ]
  },
  {
   "cell_type": "markdown",
   "metadata": {},
   "source": [
    "### Import necessary libraries"
   ]
  },
  {
   "cell_type": "code",
   "execution_count": 1,
   "metadata": {},
   "outputs": [],
   "source": [
    "# Problem definition\n",
    "from probeye.definition.inverse_problem import InverseProblem\n",
    "from probeye.definition.forward_model import ForwardModelBase\n",
    "from probeye.definition.distribution import Normal\n",
    "from probeye.definition.sensor import Sensor\n",
    "from probeye.definition.likelihood_model import GaussianLikelihoodModel\n",
    "\n",
    "# Inference\n",
    "from probeye.inference.emcee.solver import EmceeSolver\n",
    "\n",
    "# Postprocessing\n",
    "from probeye.postprocessing.sampling_plots import create_posterior_plot"
   ]
  },
  {
   "cell_type": "markdown",
   "metadata": {},
   "source": [
    "## Problem setup"
   ]
  },
  {
   "cell_type": "code",
   "execution_count": 2,
   "metadata": {},
   "outputs": [],
   "source": [
    "# Fixed parameters\n",
    "I = 1e9  # mm^4\n",
    "L = 10_000  # mm\n",
    "Q = 100  # kN\n",
    "\n",
    "# Measurements\n",
    "x_meas = 5000  # mm\n",
    "d_meas = 50  # mm\n",
    "sigma_meas = 10  # mm\n",
    "\n",
    "# Prior\n",
    "E_mean = 60  # GPa\n",
    "E_std = 20  # GPa"
   ]
  },
  {
   "cell_type": "markdown",
   "metadata": {},
   "source": [
    "## Define forward model"
   ]
  },
  {
   "cell_type": "code",
   "execution_count": null,
   "metadata": {},
   "outputs": [],
   "source": [
    "def midspan_deflection(E):\n",
    "    return Q * L ** 3 / (48 * E * I)\n",
    "\n",
    "class BeamModel(ForwardModelBase):\n",
    "    def interface(self):\n",
    "        self.parameters = [\"E\"]\n",
    "        self.input_sensors = Sensor(\"x\")\n",
    "        self.output_sensors = Sensor(\"y\", std_model=\"sigma\")\n",
    "\n",
    "    def response(self, inp: dict) -> dict:\n",
    "        E = inp[\"E\"]\n",
    "        return {\"y\": midspan_deflection(E)}"
   ]
  },
  {
   "cell_type": "markdown",
   "metadata": {},
   "source": [
    "## Define inverse problem"
   ]
  },
  {
   "cell_type": "code",
   "execution_count": 5,
   "metadata": {},
   "outputs": [],
   "source": [
    "# Instantiate the inverse problem\n",
    "problem = InverseProblem(\"Beam model with one sensor\", print_header=False)\n",
    "\n",
    "# Add latent parameters\n",
    "problem.add_parameter(\n",
    "    \"E\",\n",
    "    tex=\"$E$\",\n",
    "    info=\"Elastic modulus of the beam (GPa)\",\n",
    "    prior=Normal(mean=E_mean, std=E_std),\n",
    ")\n",
    "\n",
    "# Add fixed parameters\n",
    "problem.add_parameter(\n",
    "    \"sigma\",\n",
    "    tex=\"$\\sigma$\",\n",
    "    info=\"Standard deviation of the measurement error (mm)\",\n",
    "    value=sigma_meas,\n",
    ")\n",
    "\n",
    "# Add measurement data\n",
    "problem.add_experiment(\n",
    "    name=\"TestSeries_1\",\n",
    "    sensor_data={\"x\": x_meas, \"y\": d_meas}\n",
    ")\n",
    "\n",
    "# Add forward model\n",
    "problem.add_forward_model(BeamModel(\"BeamModel\"), experiments=\"TestSeries_1\")\n",
    "\n",
    "# Add likelihood model\n",
    "problem.add_likelihood_model(\n",
    "    GaussianLikelihoodModel(experiment_name=\"TestSeries_1\", model_error=\"additive\")\n",
    ")"
   ]
  },
  {
   "cell_type": "markdown",
   "metadata": {},
   "source": [
    "## Solve with MCMC"
   ]
  },
  {
   "cell_type": "code",
   "execution_count": 6,
   "metadata": {},
   "outputs": [
    {
     "name": "stdout",
     "output_type": "stream",
     "text": [
      "\u001b[32m2024-07-08 21:20:21.338\u001b[0m | \u001b[1mINFO    \u001b[0m | \u001b[1mSolving problem using emcee sampler with 2000 + 2000 samples and 20 walkers                         \u001b[0m | \u001b[36mprobeye.inference.emcee.solver\u001b[0m:\u001b[36mrun\u001b[0m:\u001b[36m178\u001b[0m\n",
      "\u001b[32m2024-07-08 21:20:21.339\u001b[0m | \u001b[1mINFO    \u001b[0m | \u001b[1mNo additional options specified                                                                     \u001b[0m | \u001b[36mprobeye.inference.emcee.solver\u001b[0m:\u001b[36mrun\u001b[0m:\u001b[36m186\u001b[0m\n"
     ]
    },
    {
     "name": "stderr",
     "output_type": "stream",
     "text": [
      "100%|██████████| 2000/2000 [00:07<00:00, 259.66it/s]\n",
      "100%|██████████| 2000/2000 [00:06<00:00, 288.36it/s]"
     ]
    },
    {
     "name": "stdout",
     "output_type": "stream",
     "text": [
      "\u001b[32m2024-07-08 21:20:35.993\u001b[0m | \u001b[1mINFO    \u001b[0m | \u001b[1mSampling of the posterior distribution completed: 2000 steps and 20 walkers.                        \u001b[0m | \u001b[36mprobeye.inference.emcee.solver\u001b[0m:\u001b[36mrun\u001b[0m:\u001b[36m255\u001b[0m\n",
      "\u001b[32m2024-07-08 21:20:35.994\u001b[0m | \u001b[1mINFO    \u001b[0m | \u001b[1mTotal run-time (including initial sampling): 14s.                                                   \u001b[0m | \u001b[36mprobeye.inference.emcee.solver\u001b[0m:\u001b[36mrun\u001b[0m:\u001b[36m259\u001b[0m\n",
      "\u001b[32m2024-07-08 21:20:35.994\u001b[0m | \u001b[1mINFO    \u001b[0m | \u001b[1m                                                                                                    \u001b[0m | \u001b[36mprobeye.inference.emcee.solver\u001b[0m:\u001b[36mrun\u001b[0m:\u001b[36m260\u001b[0m\n",
      "\u001b[32m2024-07-08 21:20:35.995\u001b[0m | \u001b[1mINFO    \u001b[0m | \u001b[1mSummary of sampling results (emcee)                                                                 \u001b[0m | \u001b[36mprobeye.inference.emcee.solver\u001b[0m:\u001b[36mrun\u001b[0m:\u001b[36m261\u001b[0m\n",
      "\u001b[32m2024-07-08 21:20:35.999\u001b[0m | \u001b[1mINFO    \u001b[0m | \u001b[1m      mean    median     sd     5%    95%                                                           \u001b[0m | \u001b[36mprobeye.inference.emcee.solver\u001b[0m:\u001b[36memcee_summary\u001b[0m:\u001b[36m137\u001b[0m\n",
      "\u001b[32m2024-07-08 21:20:35.999\u001b[0m | \u001b[1mINFO    \u001b[0m | \u001b[1m--  ------  --------  -----  -----  -----                                                           \u001b[0m | \u001b[36mprobeye.inference.emcee.solver\u001b[0m:\u001b[36memcee_summary\u001b[0m:\u001b[36m137\u001b[0m\n",
      "\u001b[32m2024-07-08 21:20:36.000\u001b[0m | \u001b[1mINFO    \u001b[0m | \u001b[1mE    49.84     48.24  10.85  35.07  70.14                                                           \u001b[0m | \u001b[36mprobeye.inference.emcee.solver\u001b[0m:\u001b[36memcee_summary\u001b[0m:\u001b[36m137\u001b[0m\n",
      "\u001b[32m2024-07-08 21:20:36.001\u001b[0m | \u001b[1mINFO    \u001b[0m | \u001b[1m                                                                                                    \u001b[0m | \u001b[36mprobeye.inference.emcee.solver\u001b[0m:\u001b[36mrun\u001b[0m:\u001b[36m267\u001b[0m\n"
     ]
    },
    {
     "name": "stderr",
     "output_type": "stream",
     "text": [
      "\n"
     ]
    }
   ],
   "source": [
    "emcee_solver = EmceeSolver(problem, show_progress=True)\n",
    "inference_data = emcee_solver.run(n_steps=2000, n_initial_steps=2000)"
   ]
  },
  {
   "cell_type": "markdown",
   "metadata": {},
   "source": [
    "## Plot"
   ]
  },
  {
   "cell_type": "code",
   "execution_count": 7,
   "metadata": {},
   "outputs": [
    {
     "data": {
      "image/png": "[encoded data removed]",
      "text/plain": [
       "<Figure size 250x300 with 1 Axes>"
      ]
     },
     "metadata": {},
     "output_type": "display_data"
    }
   ],
   "source": [
    "post_plot_array = create_posterior_plot(\n",
    "    inference_data,\n",
    "    emcee_solver.problem,\n",
    "    kind=\"kde\",\n",
    "    title=\"Kernel density estimate of the posterior distribution\",\n",
    ")"
   ]
  },
  {
   "cell_type": "markdown",
   "metadata": {},
   "source": [
    ":::{note} Complete Code! 📃💻\n",
    ":class: dropdown\n",
    "Here’s the complete code that you would run in your PC:\n",
    "\n",
    "\n",
    "```python\n",
    "# Problem definition\n",
    "from probeye.definition.inverse_problem import InverseProblem\n",
    "from probeye.definition.forward_model import ForwardModelBase\n",
    "from probeye.definition.distribution import Normal\n",
    "from probeye.definition.sensor import Sensor\n",
    "from probeye.definition.likelihood_model import GaussianLikelihoodModel\n",
    "\n",
    "# Inference\n",
    "from probeye.inference.emcee.solver import EmceeSolver\n",
    "\n",
    "# Postprocessing\n",
    "from probeye.postprocessing.sampling_plots import create_posterior_plot\n",
    "\n",
    "# Fixed parameters\n",
    "I = 1e9  # mm^4\n",
    "L = 10_000  # mm\n",
    "Q = 100  # kN\n",
    "\n",
    "# Measurements\n",
    "x_meas = 5000  # mm\n",
    "d_meas = 50  # mm\n",
    "sigma_meas = 10  # mm\n",
    "\n",
    "# Prior\n",
    "E_mean = 60  # GPa\n",
    "E_std = 20  # GPa\n",
    "\n",
    "\n",
    "#Define the forward model\n",
    "def midspan_deflection(E):\n",
    "    return Q * L ** 3 / (48 * E * I)\n",
    "\n",
    "class BeamModel(ForwardModelBase):\n",
    "    def interface(self):\n",
    "        self.parameters = [\"E\"]\n",
    "        self.input_sensors = Sensor(\"x\")\n",
    "        self.output_sensors = Sensor(\"y\", std_model=\"sigma\")\n",
    "\n",
    "    def response(self, inp: dict) -> dict:\n",
    "        E = inp[\"E\"]\n",
    "        return {\"y\": midspan_deflection(E)}\n",
    "    \n",
    "\n",
    "#Define the inverse problem\n",
    "# Instantiate the inverse problem\n",
    "problem = InverseProblem(\"Beam model with one sensor\", print_header=False)\n",
    "\n",
    "# Add latent parameters\n",
    "problem.add_parameter(\n",
    "    \"E\",\n",
    "    tex=\"$E$\",\n",
    "    info=\"Elastic modulus of the beam (GPa)\",\n",
    "    prior=Normal(mean=E_mean, std=E_std),\n",
    ")\n",
    "\n",
    "# Add fixed parameters\n",
    "problem.add_parameter(\n",
    "    \"sigma\",\n",
    "    tex=\"$\\sigma$\",\n",
    "    info=\"Standard deviation of the measurement error (mm)\",\n",
    "    value=sigma_meas,\n",
    ")\n",
    "\n",
    "# Add measurement data\n",
    "problem.add_experiment(\n",
    "    name=\"TestSeries_1\",\n",
    "    sensor_data={\"x\": x_meas, \"y\": d_meas}\n",
    ")\n",
    "\n",
    "# Add forward model\n",
    "problem.add_forward_model(BeamModel(\"BeamModel\"), experiments=\"TestSeries_1\")\n",
    "\n",
    "# Add likelihood model\n",
    "problem.add_likelihood_model(\n",
    "    GaussianLikelihoodModel(experiment_name=\"TestSeries_1\", model_error=\"additive\")\n",
    ")\n",
    "\n",
    "#solve with mcmc\n",
    "emcee_solver = EmceeSolver(problem, show_progress=True)\n",
    "inference_data = emcee_solver.run(n_steps=2000, n_initial_steps=2000)\n",
    "\n",
    "#plot\n",
    "post_plot_array = create_posterior_plot(\n",
    "    inference_data,\n",
    "    emcee_solver.problem,\n",
    "    kind=\"kde\",\n",
    "    title=\"Kernel density estimate of the posterior distribution\",\n",
    ")\n",
    "\n",
    "\n",
    "```\n",
    ":::\n",
    "\n"
   ]
  }
 ],
 "metadata": {
  "kernelspec": {
   "display_name": "venv",
   "language": "python",
   "name": "python3"
  },
  "language_info": {
   "codemirror_mode": {
    "name": "ipython",
    "version": 3
   },
   "file_extension": ".py",
   "mimetype": "text/x-python",
   "name": "python",
   "nbconvert_exporter": "python",
   "pygments_lexer": "ipython3",
   "version": "3.11.5"
  }
 },
 "nbformat": 4,
 "nbformat_minor": 2
}
