{
 "cells": [
  {
   "cell_type": "markdown",
   "metadata": {},
   "source": [
    "# 1. Bayes theorem for events"
   ]
  },
  {
   "cell_type": "markdown",
   "metadata": {},
   "source": [
    "```{exercise}\n",
    ":label: exercise1\n",
    ":number: 1\n",
    "\n",
    "Assuming that 1 in 100 reinforced concrete structures are affected by alkali-silica corrosion (alkali-silica reaction induced corrosion). At early stages the corrosion is not visible from the outside. Since in the long run it can lead to a considerable reduction of strength it is of utmost importance to detect the corrosion as soon as possible and take the necessary countermeasures. \n",
    "\n",
    "Suppose that we have a newly developed non-destructive testing method which detects alkali-silica corrosion in 99% of the cases if there is corrosion (right decision). At the same time it signals detection in 5% of the cases when there is no corrosion (false positive). These numbers are determined based on extensive laboratory and field tests.\n",
    "\n",
    "Question: What is the probability that a structure is affected by alkali-silica corrosion if the new method signals detection? \n",
    "```\n"
   ]
  },
  {
   "cell_type": "markdown",
   "metadata": {},
   "source": [
    ":::{hint}\n",
    ":class: dropdown\n",
    "We need to find:\n",
    "\n",
    "$P(\\text{corrosion}|\\text{positive})$\n",
    ":::"
   ]
  },
  {
   "cell_type": "markdown",
   "metadata": {},
   "source": [
    "### Define the Known Probabilities\n",
    "\n",
    "We will start by defining the probabilities given in the problem statement."
   ]
  },
  {
   "cell_type": "code",
   "execution_count": 2,
   "metadata": {},
   "outputs": [],
   "source": [
    "# Probability that a structure is affected by corrosion\n",
    "p_corrosion = 0.01  # 1 in 100\n",
    "\n",
    "# Probability of a positive test result given that there is corrosion\n",
    "p_positive_given_corrosion = 0.99  # 99% detection rate\n",
    "\n",
    "# Probability of a positive test result given that there is no corrosion\n",
    "p_positive_given_no_corrosion = 0.05  # 5% false positive rate"
   ]
  },
  {
   "cell_type": "markdown",
   "metadata": {},
   "source": [
    "### Calculate the Total Probability of a Positive Test Result\n",
    "\n",
    "Next, we need to calculate the total probability of a positive test result, which includes both true positives and false positives.\n",
    "\n",
    "$P(\\text{postive}) = P(\\text{corrosion})P(\\text{positive}|\\text{corrosion}) + [1 -  P(\\text{corrosion})]P(\\text{positive}|\\text{no corrosion})$"
   ]
  },
  {
   "cell_type": "code",
   "execution_count": 3,
   "metadata": {},
   "outputs": [],
   "source": [
    "# Total probability of a positive test result\n",
    "p_positive = (p_positive_given_corrosion * p_corrosion) + \\\n",
    "             (p_positive_given_no_corrosion * (1 - p_corrosion))\n"
   ]
  },
  {
   "cell_type": "markdown",
   "metadata": {},
   "source": [
    "### Apply Bayes' Theorem\n",
    "\n",
    "Now, we can apply Bayes' theorem to find the probability that a structure is affected by corrosion given a positive test result.\n",
    "\n",
    "$P(\\text{corrosion}|\\text{positve}) = \\frac{P(\\text{positive}|\\text{corrosion})P(\\text{corrosion})}{P(\\text{positive})}$"
   ]
  },
  {
   "cell_type": "code",
   "execution_count": 4,
   "metadata": {},
   "outputs": [
    {
     "name": "stdout",
     "output_type": "stream",
     "text": [
      "P(corrosion|positive) =  0.167\n"
     ]
    }
   ],
   "source": [
    "# Probability of corrosion given a positive test result\n",
    "p_corrosion_given_positive = (p_positive_given_corrosion * p_corrosion) / p_positive\n",
    "# Display the result\n",
    "print(f\"P(corrosion|positive) = {p_corrosion_given_positive: .3f}\")"
   ]
  },
  {
   "cell_type": "markdown",
   "metadata": {},
   "source": [
    ":::{note} Complete Code! 📃💻\n",
    ":class: dropdown\n",
    "Here’s the complete code that you would run in your PC:\n",
    "\n",
    "```python\n",
    "\n",
    "p_corrosion = 0.01\n",
    "\n",
    "p_positive_given_corrosion = 0.99\n",
    "p_positive_give_no_corrosion = 0.05\n",
    "\n",
    "p_positive = p_positive_given_corrosion * p_corrosion + p_positive_give_no_corrosion * (1 - p_corrosion)\n",
    "\n",
    "p_corrosion_given_positive = p_positive_given_corrosion * p_corrosion / p_positive\n",
    "print(f\"P(corrosion|positive) = {p_corrosion_given_positive: .3f}\")\n",
    "\n",
    "```\n",
    ":::\n",
    "\n",
    "\n"
   ]
  },
  {
   "cell_type": "markdown",
   "metadata": {},
   "source": []
  }
 ],
 "metadata": {
  "kernelspec": {
   "display_name": "base",
   "language": "python",
   "name": "python3"
  },
  "language_info": {
   "codemirror_mode": {
    "name": "ipython",
    "version": 3
   },
   "file_extension": ".py",
   "mimetype": "text/x-python",
   "name": "python",
   "nbconvert_exporter": "python",
   "pygments_lexer": "ipython3",
   "version": "3.12.5"
  }
 },
 "nbformat": 4,
 "nbformat_minor": 2
}
