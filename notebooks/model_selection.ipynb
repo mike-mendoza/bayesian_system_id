{
 "cells": [
  {
   "cell_type": "markdown",
   "metadata": {},
   "source": [
    "# 8. Model selection\n",
    "\n",
    "## Task\n",
    "\n",
    "Perform model selection between the model of **exercise 7** and this alternative model:\n",
    "\n",
    "\n",
    "```{figure} ../figures/model_selection.png\n",
    ":alt: nested sampling\n",
    ":width: 300px\n",
    ":align: center\n",
    "```\n",
    "```{figure} ../figures/model_selection_1.png\n",
    ":alt: nested sampling\n",
    ":width: 600px\n",
    ":align: center\n",
    "```\n",
    "\n",
    ":::{hint}\n",
    ":class: dropdown\n",
    "\n",
    "```{figure} ../figures/model_selection_hint.png\n",
    ":alt: nested sampling\n",
    ":width: 600px\n",
    ":align: center\n",
    "```\n",
    ":::\n",
    "\n",
    "## Imports"
   ]
  },
  {
   "cell_type": "code",
   "execution_count": 1,
   "metadata": {},
   "outputs": [],
   "source": [
    "import numpy as np\n",
    "\n",
    "# Problem definition\n",
    "from probeye.definition.inverse_problem import InverseProblem\n",
    "from probeye.definition.forward_model import ForwardModelBase\n",
    "from probeye.definition.distribution import Normal\n",
    "from probeye.definition.sensor import Sensor\n",
    "from probeye.definition.likelihood_model import GaussianLikelihoodModel\n",
    "from probeye.definition.correlation_model import ExpModel\n",
    "\n",
    "# Inference\n",
    "from probeye.inference.dynesty.solver import DynestySolver"
   ]
  },
  {
   "cell_type": "markdown",
   "metadata": {},
   "source": [
    "## Problem setup"
   ]
  },
  {
   "cell_type": "code",
   "execution_count": 2,
   "metadata": {},
   "outputs": [],
   "source": [
    "# Fixed parameters\n",
    "I = 1e9  # mm^4\n",
    "L = 10_000  # mm\n",
    "Q_loc = 2500  # mm\n",
    "\n",
    "# Measurements\n",
    "x_sensors = [2500, 5000]  # mm  (always from lower to higher, bug in inv_cov_vec_1D in tripy)\n",
    "d_sensors = [35, 50]  # mm\n",
    "sigma_model = 2.5  # mm\n",
    "pearson = 0.5\n",
    "l_corr = -np.abs(x_sensors[1] - x_sensors[0]) / np.log(pearson)  # mm (assuming exponential correlation)\n",
    "\n",
    "# Prior\n",
    "E_mean = 60  # GPa\n",
    "E_std = 20  # GPa\n",
    "Q_mean = 60  # kN\n",
    "Q_std = 30  # kN"
   ]
  },
  {
   "cell_type": "markdown",
   "metadata": {},
   "source": [
    "## Define forward model"
   ]
  },
  {
   "cell_type": "code",
   "execution_count": 3,
   "metadata": {},
   "outputs": [],
   "source": [
    "def beam_deflection(E, Q, a, x):  # a is load position, x is sensor position\n",
    "    if x < a:\n",
    "        b = L - a\n",
    "        return Q * b * x * (L ** 2 - b ** 2 - x ** 2) / (6 * E * I * L)\n",
    "    \n",
    "    return Q * a * (L - x) * (2 * L * x - x ** 2 - a ** 2) / (6 * E * I * L)"
   ]
  },
  {
   "cell_type": "code",
   "execution_count": 4,
   "metadata": {},
   "outputs": [],
   "source": [
    "class BeamModel(ForwardModelBase):\n",
    "    def interface(self):\n",
    "        self.parameters = [\"E\", \"Q\"]\n",
    "        self.input_sensors = Sensor(\"x\")\n",
    "        self.output_sensors = Sensor(\"y\", std_model=\"sigma\")\n",
    "\n",
    "    def response(self, inp: dict) -> dict:\n",
    "        E = inp[\"E\"]\n",
    "        Q = inp[\"Q\"]\n",
    "        a = Q_loc\n",
    "        x = inp[\"x\"]\n",
    "        return {\"y\": [beam_deflection(E, Q, a, float(x[0])), beam_deflection(E, Q, a, float(x[1]))]}  # float() needed, probably a bug in probeye"
   ]
  },
  {
   "cell_type": "markdown",
   "metadata": {},
   "source": [
    "## Define inverse problem"
   ]
  },
  {
   "cell_type": "code",
   "execution_count": 5,
   "metadata": {},
   "outputs": [],
   "source": [
    "# Instantiate the inverse problem\n",
    "problem = InverseProblem(\"Beam model with two sensors\", print_header=False)\n",
    "\n",
    "# Add latent parameters\n",
    "problem.add_parameter(\n",
    "    \"E\",\n",
    "    tex=\"$E$\",\n",
    "    info=\"Elastic modulus of the beam (GPa)\",\n",
    "    prior=Normal(mean=E_mean, std=E_std),\n",
    ")\n",
    "problem.add_parameter(\n",
    "    \"Q\",\n",
    "    tex=\"$Q$\",\n",
    "    info=\"Load applied to the beam (kN)\",\n",
    "    prior=Normal(mean=Q_mean, std=Q_std),\n",
    ")\n",
    "\n",
    "# Add fixed parameters\n",
    "problem.add_parameter(\n",
    "    \"sigma\",\n",
    "    tex=\"$\\sigma$\",\n",
    "    info=\"Standard deviation of the model error (mm)\",\n",
    "    value=sigma_model,\n",
    ")\n",
    "problem.add_parameter(\n",
    "    \"l_corr\",\n",
    "    tex=\"$l_{corr}$\",\n",
    "    info=\"Correlation length of the model error (mm)\",\n",
    "    value=l_corr,\n",
    ")\n",
    "\n",
    "# Add measurement data\n",
    "problem.add_experiment(\n",
    "    name=\"TestSeries_1\",\n",
    "    sensor_data={\"x\": x_sensors, \"y\": d_sensors}\n",
    ")\n",
    "                 \n",
    "# Add forward model\n",
    "problem.add_forward_model(BeamModel(\"BeamModel\"), experiments=\"TestSeries_1\")\n",
    "\n",
    "# Add likelihood model\n",
    "likelihood_model = GaussianLikelihoodModel(\n",
    "        experiment_name=\"TestSeries_1\", \n",
    "        model_error=\"additive\",\n",
    "        correlation=ExpModel(x=\"l_corr\")\n",
    "        )\n",
    "problem.add_likelihood_model(likelihood_model)\n"
   ]
  },
  {
   "cell_type": "markdown",
   "metadata": {},
   "source": [
    "## Solve with Dynesty"
   ]
  },
  {
   "cell_type": "code",
   "execution_count": 6,
   "metadata": {},
   "outputs": [
    {
     "name": "stdout",
     "output_type": "stream",
     "text": [
      "\u001b[32m2024-07-09 15:11:44.896\u001b[0m | \u001b[1mINFO    \u001b[0m | \u001b[1mSolving problem using dynesty sampler with keyword arguments: {}                                    \u001b[0m | \u001b[36mprobeye.inference.dynesty.solver\u001b[0m:\u001b[36mrun\u001b[0m:\u001b[36m214\u001b[0m\n"
     ]
    },
    {
     "name": "stderr",
     "output_type": "stream",
     "text": [
      "1511it [00:07, 206.49it/s, +250 | bound: 10 | nc: 1 | ncall: 12994 | eff(%): 13.818 | loglstar:   -inf < -6.808 <    inf | logz: -11.364 +/-  0.119 | dlogz:  0.001 >  0.259]"
     ]
    },
    {
     "name": "stdout",
     "output_type": "stream",
     "text": [
      "\u001b[32m2024-07-09 15:11:52.332\u001b[0m | \u001b[1mINFO    \u001b[0m | \u001b[1mTotal run-time: 7s.                                                                                 \u001b[0m | \u001b[36mprobeye.inference.dynesty.solver\u001b[0m:\u001b[36mrun\u001b[0m:\u001b[36m252\u001b[0m\n",
      "\u001b[32m2024-07-09 15:11:52.332\u001b[0m | \u001b[1mINFO    \u001b[0m | \u001b[1mResample weighted samples to equal samples for post                                                 \u001b[0m | \u001b[36mprobeye.inference.dynesty.solver\u001b[0m:\u001b[36mrun\u001b[0m:\u001b[36m253\u001b[0m\n",
      "\u001b[32m2024-07-09 15:11:52.333\u001b[0m | \u001b[1mINFO    \u001b[0m | \u001b[1mprocessing. Access the original dynesty results via  .raw_results                                   \u001b[0m | \u001b[36mprobeye.inference.dynesty.solver\u001b[0m:\u001b[36mrun\u001b[0m:\u001b[36m254\u001b[0m\n",
      "\u001b[32m2024-07-09 15:11:52.336\u001b[0m | \u001b[1mINFO    \u001b[0m | \u001b[1m                                                                                                    \u001b[0m | \u001b[36mprobeye.inference.dynesty.solver\u001b[0m:\u001b[36mrun\u001b[0m:\u001b[36m257\u001b[0m\n",
      "\u001b[32m2024-07-09 15:11:52.336\u001b[0m | \u001b[1mINFO    \u001b[0m | \u001b[1mSummary of sampling results (dynesty)                                                               \u001b[0m | \u001b[36mprobeye.inference.dynesty.solver\u001b[0m:\u001b[36mrun\u001b[0m:\u001b[36m259\u001b[0m\n",
      "\u001b[32m2024-07-09 15:11:52.336\u001b[0m | \u001b[1mINFO    \u001b[0m | \u001b[1m      mean    median     sd     5%     95%                                                          \u001b[0m | \u001b[36mprobeye.inference.dynesty.solver\u001b[0m:\u001b[36mget_summary\u001b[0m:\u001b[36m176\u001b[0m\n",
      "\u001b[32m2024-07-09 15:11:52.336\u001b[0m | \u001b[1mINFO    \u001b[0m | \u001b[1m--  ------  --------  -----  -----  ------                                                          \u001b[0m | \u001b[36mprobeye.inference.dynesty.solver\u001b[0m:\u001b[36mget_summary\u001b[0m:\u001b[36m176\u001b[0m\n",
      "\u001b[32m2024-07-09 15:11:52.336\u001b[0m | \u001b[1mINFO    \u001b[0m | \u001b[1mE    28.46     28.73   8.14  15.09   42.20                                                          \u001b[0m | \u001b[36mprobeye.inference.dynesty.solver\u001b[0m:\u001b[36mget_summary\u001b[0m:\u001b[36m176\u001b[0m\n",
      "\u001b[32m2024-07-09 15:11:52.351\u001b[0m | \u001b[1mINFO    \u001b[0m | \u001b[1mQ    93.79     94.30  26.24  49.34  137.19                                                          \u001b[0m | \u001b[36mprobeye.inference.dynesty.solver\u001b[0m:\u001b[36mget_summary\u001b[0m:\u001b[36m176\u001b[0m\n",
      "\u001b[32m2024-07-09 15:11:52.352\u001b[0m | \u001b[1mINFO    \u001b[0m | \u001b[1m                                                                                                    \u001b[0m | \u001b[36mprobeye.inference.dynesty.solver\u001b[0m:\u001b[36mrun\u001b[0m:\u001b[36m262\u001b[0m\n",
      "\u001b[32m2024-07-09 15:11:52.354\u001b[0m | \u001b[1mINFO    \u001b[0m | \u001b[1mPosterior log evidence: -11.364485434224077                                                         \u001b[0m | \u001b[36mprobeye.inference.dynesty.solver\u001b[0m:\u001b[36mrun\u001b[0m:\u001b[36m263\u001b[0m\n",
      "\u001b[32m2024-07-09 15:11:52.354\u001b[0m | \u001b[1mINFO    \u001b[0m | \u001b[1m                                                                                                    \u001b[0m | \u001b[36mprobeye.inference.dynesty.solver\u001b[0m:\u001b[36mrun\u001b[0m:\u001b[36m264\u001b[0m\n"
     ]
    },
    {
     "name": "stderr",
     "output_type": "stream",
     "text": [
      "\n"
     ]
    }
   ],
   "source": [
    "dynesty_solver = DynestySolver(problem, show_progress=True)\n",
    "inference_data = dynesty_solver.run(estimation_method='static', nlive=250)"
   ]
  },
  {
   "cell_type": "markdown",
   "metadata": {},
   "source": [
    "## Model comparison"
   ]
  },
  {
   "cell_type": "code",
   "execution_count": 7,
   "metadata": {},
   "outputs": [
    {
     "name": "stdout",
     "output_type": "stream",
     "text": [
      "Posterior probability model 1: 0.988341583445167\n",
      "Posterior probability model 2: 0.011658416554833108\n",
      "Bayes factor: 84.77494167382795\n"
     ]
    }
   ],
   "source": [
    "log_evidence_1 = -8.90\n",
    "log_evidence_2 = -13.34\n",
    "\n",
    "prior_M_1 = 0.5\n",
    "prior_M_2 = 0.5\n",
    "\n",
    "denominator = np.exp(log_evidence_1) * prior_M_1 + np.exp(log_evidence_2) * prior_M_2\n",
    "\n",
    "posterior_M_1 = np.exp(log_evidence_1) * prior_M_1 / denominator\n",
    "posterior_M_2 = np.exp(log_evidence_2) * prior_M_2 / denominator\n",
    "\n",
    "print(f\"Posterior probability model 1: {posterior_M_1}\")\n",
    "print(f\"Posterior probability model 2: {posterior_M_2}\")\n",
    "\n",
    "bayes_factor = posterior_M_1 * prior_M_2 / (posterior_M_2 * prior_M_1)\n",
    "print(f\"Bayes factor: {bayes_factor}\")"
   ]
  }
 ],
 "metadata": {
  "kernelspec": {
   "display_name": "venv",
   "language": "python",
   "name": "python3"
  },
  "language_info": {
   "codemirror_mode": {
    "name": "ipython",
    "version": 3
   },
   "file_extension": ".py",
   "mimetype": "text/x-python",
   "name": "python",
   "nbconvert_exporter": "python",
   "pygments_lexer": "ipython3",
   "version": "3.11.5"
  }
 },
 "nbformat": 4,
 "nbformat_minor": 2
}
