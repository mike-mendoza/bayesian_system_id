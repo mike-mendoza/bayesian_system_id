{
 "cells": [
  {
   "cell_type": "markdown",
   "metadata": {},
   "source": [
    "# 2. Use of conjugate priors\n",
    "\n",
    "A **conjugate prior** is an algebraic convenience, giving a closed-form expression for the posterior; otherwise, numerical integration may be necessary. \n",
    "\n",
    "More information about conjugate priors and tables of cojugate distribution can be found in [wikipedia](https://en.wikipedia.org/wiki/Conjugate_prior)\n",
    "\n",
    "![conjugate example](../figures/conjugate_priors_example.png)\n",
    "\n"
   ]
  },
  {
   "cell_type": "markdown",
   "metadata": {},
   "source": [
    "## Task: \n",
    "\n",
    "1. Estimate the mean value of concrete compressive strength ($\\theta$)) (estimate of the population mean) from concrete cubes (sample) produced at the same concrete plant. \n",
    "\n",
    "    Assume that we know that the concrete compressive strength:\n",
    "    - Follows a normal distribution.\n",
    "    - Its standard deviation is known: 5 MPa.\n",
    "    - Only the mean value ($\\theta$) is unknown (to be estimated from a sample).\n",
    "    - The sample: x = [30.1 28.7 21.2 28.6 25.8 25.1 24.2 27.3, 20.0 34.8] MPa.\n",
    "\n",
    "2. Estimate the population mean ($\\theta$)) from the sample mean (called point estimate in mathematical statistics).\n",
    "3. Calculate the entire posterior distribution of the mean parameter ($\\theta$)).\n",
    "\n",
    "    - Assume a normally distributed prior on the mean parameter with mean of 40 MPa\n",
    "    and standard deviation of 100 MPa.\n",
    "    - Utilize the available closed-form, symbolic solution for this problem (conjugate\n",
    "    prior)."
   ]
  },
  {
   "cell_type": "markdown",
   "metadata": {},
   "source": [
    ":::{hint}\n",
    ":class: dropdown\n",
    "\n",
    "The compressive strength is normally distributed and its standard deviation σ is known, so if we assume that the prior distribution of the parameter µ (mean of the compressive strength) is normally distributed, then the posterior distribution remains Gaussian (conjugate). The mean and standard deviation of the posterior is defined as follows:\n",
    "\n",
    "\n",
    "```{figure} ../figures/hint_conjugate_1.png\n",
    ":alt: conjugate example\n",
    ":width: 500px\n",
    ":align: center\n",
    "\n",
    "```\n",
    "\n",
    "\n",
    "\n",
    ":::"
   ]
  },
  {
   "cell_type": "markdown",
   "metadata": {},
   "source": [
    "\n",
    "### Import Necessary Libraries\n",
    "\n",
    "We will start by importing the required libraries for our analysis."
   ]
  },
  {
   "cell_type": "code",
   "execution_count": 1,
   "metadata": {},
   "outputs": [],
   "source": [
    "import matplotlib.pyplot as plt\n",
    "import numpy as np\n",
    "from scipy import stats"
   ]
  },
  {
   "cell_type": "markdown",
   "metadata": {},
   "source": [
    "### Define Constants and Sample Data\n",
    "\n",
    "Next, we define the constants, including the standard deviation and the sample data."
   ]
  },
  {
   "cell_type": "code",
   "execution_count": 2,
   "metadata": {},
   "outputs": [],
   "source": [
    "std = 5  # MPa\n",
    "sample = [30.1, 28.7, 21.2, 28.6, 25.8, 25.1, 24.2, 27.3, 20.0, 34.8]  # MPa\n",
    "n = len(sample)\n",
    "\n",
    "prior_mu_mean = 40  # MPa\n",
    "prior_mu_std = 100  # MPa"
   ]
  },
  {
   "cell_type": "markdown",
   "metadata": {},
   "source": [
    "### Calculate the Mean of the Sample\n",
    "\n",
    "We calculate the mean of the sample data."
   ]
  },
  {
   "cell_type": "code",
   "execution_count": null,
   "metadata": {},
   "outputs": [],
   "source": [
    "mean_sample = np.mean(sample)\n",
    "print(f\"Mean of the sample: {mean_sample:.2f} MPa\")"
   ]
  },
  {
   "cell_type": "markdown",
   "metadata": {},
   "source": [
    "### Posterior Distribution with Conjugate Prior\n",
    "\n",
    "Using the sample mean and the prior information, we calculate the posterior distribution."
   ]
  },
  {
   "cell_type": "code",
   "execution_count": 3,
   "metadata": {},
   "outputs": [
    {
     "name": "stdout",
     "output_type": "stream",
     "text": [
      "Mean of the sample: 26.58 MPa\n",
      "Posterior mean: 26.58 MPa\n",
      "Posterior standard deviation: 1.58 MPa\n"
     ]
    }
   ],
   "source": [
    "\n",
    "# Posterior distribution with conjugate prior\n",
    "posterior_mu_mean = (prior_mu_mean * (std ** 2 / n) + mean_sample * prior_mu_std ** 2) / (std ** 2 / n + prior_mu_std ** 2)\n",
    "posterior_mu_std = np.sqrt(prior_mu_std ** 2 * (std ** 2 / n) / (prior_mu_std ** 2 + std ** 2 / n))\n",
    "print(f\"Posterior mean: {posterior_mu_mean:.2f} MPa\")\n",
    "print(f\"Posterior standard deviation: {posterior_mu_std:.2f} MPa\")"
   ]
  },
  {
   "cell_type": "markdown",
   "metadata": {},
   "source": [
    "### Plot the Distributions"
   ]
  },
  {
   "cell_type": "code",
   "execution_count": 4,
   "metadata": {},
   "outputs": [
    {
     "data": {
      "image/png": "[encoded data removed]",
      "text/plain": [
       "<Figure size 640x480 with 1 Axes>"
      ]
     },
     "metadata": {},
     "output_type": "display_data"
    }
   ],
   "source": [
    "x = np.linspace(0, 100, 1000)\n",
    "prior = stats.norm.pdf(x, prior_mu_mean, prior_mu_std)\n",
    "posterior = stats.norm.pdf(x, posterior_mu_mean, posterior_mu_std)\n",
    "\n",
    "fig, ax = plt.subplots()\n",
    "ax.plot(x, prior, label=\"Prior\")\n",
    "ax.plot(x, posterior, label=\"Posterior\")\n",
    "ax.set_xlim(0, 100)\n",
    "ax.set_ylim(0, 0.3)\n",
    "ax.set_xlabel(\"Mean (MPa)\")\n",
    "ax.set_ylabel(\"Density\")\n",
    "ax.set_title(\"Distribution of the Mean\")\n",
    "ax.legend()\n",
    "plt.show()"
   ]
  },
  {
   "cell_type": "markdown",
   "metadata": {},
   "source": [
    ":::{note} Complete Code! 📃💻\n",
    ":class: dropdown\n",
    "Here’s the complete code that you would run in your PC:\n",
    "\n",
    "```python\n",
    "\n",
    "import matplotlib.pyplot as plt\n",
    "import numpy as np\n",
    "from scipy import stats\n",
    "\n",
    "std = 5  # MPa\n",
    "sample = [30.1, 28.7, 21.2, 28.6, 25.8, 25.1, 24.2, 27.3, 20.0, 34.8]  # MPa\n",
    "n = len(sample)\n",
    "\n",
    "prior_mu_mean = 40  # MPa\n",
    "prior_mu_std = 100  # MPa\n",
    "\n",
    "\n",
    "# Calculate the mean of the sample\n",
    "mean_sample = np.mean(sample)\n",
    "print(f\"Mean of the sample: {mean_sample:.2f} MPa\")\n",
    "\n",
    "# sttep 3 Posterior distribution with conjugate prior\n",
    "posterior_mu_mean = (prior_mu_mean * (std ** 2 / n) + mean_sample * prior_mu_std ** 2) / (std ** 2 / n + prior_mu_std ** 2)\n",
    "posterior_mu_std = np.sqrt(prior_mu_std ** 2 * (std ** 2 / n) / (prior_mu_std ** 2 + std ** 2 / n))\n",
    "print(f\"Posterior mean: {posterior_mu_mean:.2f} MPa\")\n",
    "print(f\"Posterior standard deviation: {posterior_mu_std:.2f} MPa\")\n",
    "\n",
    "#plots\n",
    "x = np.linspace(0, 100, 1000)\n",
    "prior = stats.norm.pdf(x, prior_mu_mean, prior_mu_std)\n",
    "posterior = stats.norm.pdf(x, posterior_mu_mean, posterior_mu_std)\n",
    "\n",
    "fig, ax = plt.subplots()\n",
    "ax.plot(x, prior, label=\"Prior\")\n",
    "ax.plot(x, posterior, label=\"Posterior\")\n",
    "ax.set_xlim(0, 100)\n",
    "ax.set_ylim(0, 0.3)\n",
    "ax.set_xlabel(\"Mean (MPa)\")\n",
    "ax.set_ylabel(\"Density\")\n",
    "ax.set_title(\"Distribution of the Mean\")\n",
    "ax.legend()\n",
    "plt.show()\n",
    "\n",
    "```\n",
    ":::\n",
    "\n"
   ]
  },
  {
   "cell_type": "markdown",
   "metadata": {},
   "source": []
  }
 ],
 "metadata": {
  "kernelspec": {
   "display_name": "venv",
   "language": "python",
   "name": "python3"
  },
  "language_info": {
   "codemirror_mode": {
    "name": "ipython",
    "version": 3
   },
   "file_extension": ".py",
   "mimetype": "text/x-python",
   "name": "python",
   "nbconvert_exporter": "python",
   "pygments_lexer": "ipython3",
   "version": "3.11.5"
  }
 },
 "nbformat": 4,
 "nbformat_minor": 2
}
